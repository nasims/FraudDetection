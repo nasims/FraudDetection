{
 "cells": [
  {
   "cell_type": "markdown",
   "metadata": {
    "collapsed": true
   },
   "source": [
    "# 4. Inferential Statistics\n",
    "### In this notebook, some inferential statistics techniques are applied for the fraud detection data."
   ]
  },
  {
   "cell_type": "code",
   "execution_count": 1,
   "metadata": {
    "collapsed": true
   },
   "outputs": [],
   "source": [
    "# Import the necessary libraries\n",
    "import pandas as pd\n",
    "import numpy as np\n",
    "import math\n",
    "import scipy.stats as st\n",
    "\n",
    "import matplotlib\n",
    "#matplotlib.style.use('ggplot')\n",
    "import matplotlib.pyplot as plt\n",
    "%matplotlib inline\n",
    "\n",
    "import seaborn as sns\n",
    "sns.set_style(\"darkgrid\")"
   ]
  },
  {
   "cell_type": "markdown",
   "metadata": {
    "collapsed": true
   },
   "source": [
    "### Importing Data"
   ]
  },
  {
   "cell_type": "code",
   "execution_count": 2,
   "metadata": {
    "collapsed": true
   },
   "outputs": [],
   "source": [
    "df = pd.read_csv('/Users/nasim/Data_Science/Springboard/FraudDetection/PS_20174392719_1491204439457_log.csv')\n",
    "#df = df[:1000000]\n",
    "df.describe()\n",
    "# Drop duplicate rows:\n",
    "df = df.drop_duplicates()"
   ]
  },
  {
   "cell_type": "code",
   "execution_count": 3,
   "metadata": {
    "collapsed": true
   },
   "outputs": [],
   "source": [
    "df = df.rename(columns={'oldbalanceOrg':'oldBalanceOrig', 'newbalanceOrig':'newBalanceOrig', 'oldbalanceDest':'oldBalanceDest', 'newbalanceDest':'newBalanceDest'})\n"
   ]
  },
  {
   "cell_type": "code",
   "execution_count": 4,
   "metadata": {},
   "outputs": [
    {
     "name": "stdout",
     "output_type": "stream",
     "text": [
      "<class 'pandas.core.frame.DataFrame'>\n",
      "Int64Index: 6362620 entries, 0 to 6362619\n",
      "Data columns (total 11 columns):\n",
      "step              int64\n",
      "type              object\n",
      "amount            float64\n",
      "nameOrig          object\n",
      "oldBalanceOrig    float64\n",
      "newBalanceOrig    float64\n",
      "nameDest          object\n",
      "oldBalanceDest    float64\n",
      "newBalanceDest    float64\n",
      "isFraud           int64\n",
      "isFlaggedFraud    int64\n",
      "dtypes: float64(5), int64(3), object(3)\n",
      "memory usage: 582.5+ MB\n"
     ]
    }
   ],
   "source": [
    "df.info()"
   ]
  },
  {
   "cell_type": "code",
   "execution_count": 5,
   "metadata": {
    "collapsed": true
   },
   "outputs": [],
   "source": [
    "Y = df['isFraud']"
   ]
  },
  {
   "cell_type": "code",
   "execution_count": 6,
   "metadata": {},
   "outputs": [
    {
     "data": {
      "text/html": [
       "<div>\n",
       "<style>\n",
       "    .dataframe thead tr:only-child th {\n",
       "        text-align: right;\n",
       "    }\n",
       "\n",
       "    .dataframe thead th {\n",
       "        text-align: left;\n",
       "    }\n",
       "\n",
       "    .dataframe tbody tr th {\n",
       "        vertical-align: top;\n",
       "    }\n",
       "</style>\n",
       "<table border=\"1\" class=\"dataframe\">\n",
       "  <thead>\n",
       "    <tr style=\"text-align: right;\">\n",
       "      <th></th>\n",
       "      <th>step</th>\n",
       "      <th>type</th>\n",
       "      <th>amount</th>\n",
       "      <th>oldBalanceOrig</th>\n",
       "      <th>newBalanceOrig</th>\n",
       "      <th>oldBalanceDest</th>\n",
       "      <th>newBalanceDest</th>\n",
       "      <th>isFraud</th>\n",
       "    </tr>\n",
       "  </thead>\n",
       "  <tbody>\n",
       "    <tr>\n",
       "      <th>2</th>\n",
       "      <td>1</td>\n",
       "      <td>TRANSFER</td>\n",
       "      <td>181.00</td>\n",
       "      <td>181.00</td>\n",
       "      <td>0.0</td>\n",
       "      <td>0.0</td>\n",
       "      <td>0.00</td>\n",
       "      <td>1</td>\n",
       "    </tr>\n",
       "    <tr>\n",
       "      <th>3</th>\n",
       "      <td>1</td>\n",
       "      <td>CASH_OUT</td>\n",
       "      <td>181.00</td>\n",
       "      <td>181.00</td>\n",
       "      <td>0.0</td>\n",
       "      <td>21182.0</td>\n",
       "      <td>0.00</td>\n",
       "      <td>1</td>\n",
       "    </tr>\n",
       "    <tr>\n",
       "      <th>15</th>\n",
       "      <td>1</td>\n",
       "      <td>CASH_OUT</td>\n",
       "      <td>229133.94</td>\n",
       "      <td>15325.00</td>\n",
       "      <td>0.0</td>\n",
       "      <td>5083.0</td>\n",
       "      <td>51513.44</td>\n",
       "      <td>0</td>\n",
       "    </tr>\n",
       "    <tr>\n",
       "      <th>19</th>\n",
       "      <td>1</td>\n",
       "      <td>TRANSFER</td>\n",
       "      <td>215310.30</td>\n",
       "      <td>705.00</td>\n",
       "      <td>0.0</td>\n",
       "      <td>22425.0</td>\n",
       "      <td>0.00</td>\n",
       "      <td>0</td>\n",
       "    </tr>\n",
       "    <tr>\n",
       "      <th>24</th>\n",
       "      <td>1</td>\n",
       "      <td>TRANSFER</td>\n",
       "      <td>311685.89</td>\n",
       "      <td>10835.00</td>\n",
       "      <td>0.0</td>\n",
       "      <td>6267.0</td>\n",
       "      <td>2719172.89</td>\n",
       "      <td>0</td>\n",
       "    </tr>\n",
       "    <tr>\n",
       "      <th>42</th>\n",
       "      <td>1</td>\n",
       "      <td>CASH_OUT</td>\n",
       "      <td>110414.71</td>\n",
       "      <td>26845.41</td>\n",
       "      <td>0.0</td>\n",
       "      <td>288800.0</td>\n",
       "      <td>2415.16</td>\n",
       "      <td>0</td>\n",
       "    </tr>\n",
       "    <tr>\n",
       "      <th>47</th>\n",
       "      <td>1</td>\n",
       "      <td>CASH_OUT</td>\n",
       "      <td>56953.90</td>\n",
       "      <td>1942.02</td>\n",
       "      <td>0.0</td>\n",
       "      <td>70253.0</td>\n",
       "      <td>64106.18</td>\n",
       "      <td>0</td>\n",
       "    </tr>\n",
       "    <tr>\n",
       "      <th>48</th>\n",
       "      <td>1</td>\n",
       "      <td>CASH_OUT</td>\n",
       "      <td>5346.89</td>\n",
       "      <td>0.00</td>\n",
       "      <td>0.0</td>\n",
       "      <td>652637.0</td>\n",
       "      <td>6453430.91</td>\n",
       "      <td>0</td>\n",
       "    </tr>\n",
       "    <tr>\n",
       "      <th>51</th>\n",
       "      <td>1</td>\n",
       "      <td>CASH_OUT</td>\n",
       "      <td>23261.30</td>\n",
       "      <td>20411.53</td>\n",
       "      <td>0.0</td>\n",
       "      <td>25742.0</td>\n",
       "      <td>0.00</td>\n",
       "      <td>0</td>\n",
       "    </tr>\n",
       "    <tr>\n",
       "      <th>58</th>\n",
       "      <td>1</td>\n",
       "      <td>TRANSFER</td>\n",
       "      <td>62610.80</td>\n",
       "      <td>79114.00</td>\n",
       "      <td>16503.2</td>\n",
       "      <td>517.0</td>\n",
       "      <td>8383.29</td>\n",
       "      <td>0</td>\n",
       "    </tr>\n",
       "  </tbody>\n",
       "</table>\n",
       "</div>"
      ],
      "text/plain": [
       "    step      type     amount  oldBalanceOrig  newBalanceOrig  oldBalanceDest  \\\n",
       "2      1  TRANSFER     181.00          181.00             0.0             0.0   \n",
       "3      1  CASH_OUT     181.00          181.00             0.0         21182.0   \n",
       "15     1  CASH_OUT  229133.94        15325.00             0.0          5083.0   \n",
       "19     1  TRANSFER  215310.30          705.00             0.0         22425.0   \n",
       "24     1  TRANSFER  311685.89        10835.00             0.0          6267.0   \n",
       "42     1  CASH_OUT  110414.71        26845.41             0.0        288800.0   \n",
       "47     1  CASH_OUT   56953.90         1942.02             0.0         70253.0   \n",
       "48     1  CASH_OUT    5346.89            0.00             0.0        652637.0   \n",
       "51     1  CASH_OUT   23261.30        20411.53             0.0         25742.0   \n",
       "58     1  TRANSFER   62610.80        79114.00         16503.2           517.0   \n",
       "\n",
       "    newBalanceDest  isFraud  \n",
       "2             0.00        1  \n",
       "3             0.00        1  \n",
       "15        51513.44        0  \n",
       "19            0.00        0  \n",
       "24      2719172.89        0  \n",
       "42         2415.16        0  \n",
       "47        64106.18        0  \n",
       "48      6453430.91        0  \n",
       "51            0.00        0  \n",
       "58         8383.29        0  "
      ]
     },
     "execution_count": 6,
     "metadata": {},
     "output_type": "execute_result"
    }
   ],
   "source": [
    "X = df.loc[(df['type']=='TRANSFER') | (df['type']=='CASH_OUT')]\n",
    "X = X.drop(['isFlaggedFraud','nameOrig', 'nameDest'], axis = 1)\n",
    "X_Fraud = X.loc[Y==1]\n",
    "X_Leg = X.loc[Y==0]\n",
    "X.head(10)"
   ]
  },
  {
   "cell_type": "markdown",
   "metadata": {},
   "source": [
    "### Check if fraudulent and legitimate transactions are statistically different in amount of transaction"
   ]
  },
  {
   "cell_type": "markdown",
   "metadata": {},
   "source": [
    "### What are the null and alternate hypotheses?\n",
    "#### Null hypothesis is that there is no difference in amount of transaction between fraudulant and legitimate transactions . Alternative hypothesis is that the amount is statistically different in fraudulent and legitimate transactions. "
   ]
  },
  {
   "cell_type": "code",
   "execution_count": 7,
   "metadata": {},
   "outputs": [
    {
     "name": "stdout",
     "output_type": "stream",
     "text": [
      "Mean of amount for legitimate 314115.4961703584\n",
      "Mean of amount for fraudulant 1467967.299140387\n"
     ]
    }
   ],
   "source": [
    "# Get the mean of amount for fraudulant and legitimate for test statistics:\n",
    "mean_Leg = X_Leg['amount'].mean()\n",
    "mean_Fraud = X_Fraud['amount'].mean()\n",
    "print(\"Mean of amount for legitimate\", mean_Leg)\n",
    "print(\"Mean of amount for fraudulant\", mean_Fraud)\n",
    "\n",
    "# Get the mean differece:\n",
    "mean_diff = mean_Fraud - mean_Leg\n"
   ]
  },
  {
   "cell_type": "code",
   "execution_count": 8,
   "metadata": {},
   "outputs": [
    {
     "name": "stdout",
     "output_type": "stream",
     "text": [
      "Standard deviation of amount for legitimate 877144.1496342077\n",
      "Standard deviation of amount for fraudulant 2404252.9472401612\n"
     ]
    }
   ],
   "source": [
    "# Get the standard deviation of each group:\n",
    "std_Leg = X_Leg['amount'].std()\n",
    "std_Fraud = X_Fraud['amount'].std()\n",
    "print(\"Standard deviation of amount for legitimate\", std_Leg)\n",
    "print(\"Standard deviation of amount for fraudulant\", std_Fraud)"
   ]
  },
  {
   "cell_type": "code",
   "execution_count": 9,
   "metadata": {},
   "outputs": [
    {
     "name": "stdout",
     "output_type": "stream",
     "text": [
      "Size of legitimate 2762196\n",
      "Size of fraudulant 8213\n"
     ]
    }
   ],
   "source": [
    "# Get the size of each group:\n",
    "size_Leg = X_Leg['amount'].size\n",
    "size_Fraud = X_Fraud['amount'].size\n",
    "print(\"Size of legitimate\", size_Leg)\n",
    "print(\"Size of fraudulant\", size_Fraud)"
   ]
  },
  {
   "cell_type": "code",
   "execution_count": 10,
   "metadata": {},
   "outputs": [
    {
     "name": "stdout",
     "output_type": "stream",
     "text": [
      "standard error =  26534.76014599928\n"
     ]
    }
   ],
   "source": [
    "# Calculate standard error:\n",
    "SE = math.sqrt(std_Leg**2/size_Leg+std_Fraud**2/size_Fraud)\n",
    "print(\"standard error = \", SE)"
   ]
  },
  {
   "cell_type": "code",
   "execution_count": 11,
   "metadata": {},
   "outputs": [
    {
     "name": "stdout",
     "output_type": "stream",
     "text": [
      "z-score =  43.48453864370045\n"
     ]
    }
   ],
   "source": [
    "# Calculate z-score:\n",
    "z_score = mean_diff/SE\n",
    "print(\"z-score = \", z_score)"
   ]
  },
  {
   "cell_type": "code",
   "execution_count": 12,
   "metadata": {},
   "outputs": [
    {
     "name": "stdout",
     "output_type": "stream",
     "text": [
      "p-value =  0.0\n"
     ]
    }
   ],
   "source": [
    "# Calculate p-value:\n",
    "p_value = st.norm.sf(abs(z_score))*2\n",
    "print(\"p-value = \", p_value)"
   ]
  },
  {
   "cell_type": "markdown",
   "metadata": {},
   "source": [
    "#### Since p-value is zero, we reject the null hypothesis. So there is a statistically significant difference between mean of amount for legitimate and fraudulent transactions."
   ]
  },
  {
   "cell_type": "code",
   "execution_count": 13,
   "metadata": {},
   "outputs": [
    {
     "name": "stderr",
     "output_type": "stream",
     "text": [
      "/anaconda3/lib/python3.6/site-packages/ipykernel_launcher.py:2: SettingWithCopyWarning: \n",
      "A value is trying to be set on a copy of a slice from a DataFrame.\n",
      "Try using .loc[row_indexer,col_indexer] = value instead\n",
      "\n",
      "See the caveats in the documentation: http://pandas.pydata.org/pandas-docs/stable/indexing.html#indexing-view-versus-copy\n",
      "  \n",
      "/anaconda3/lib/python3.6/site-packages/ipykernel_launcher.py:3: SettingWithCopyWarning: \n",
      "A value is trying to be set on a copy of a slice from a DataFrame.\n",
      "Try using .loc[row_indexer,col_indexer] = value instead\n",
      "\n",
      "See the caveats in the documentation: http://pandas.pydata.org/pandas-docs/stable/indexing.html#indexing-view-versus-copy\n",
      "  This is separate from the ipykernel package so we can avoid doing imports until\n",
      "/anaconda3/lib/python3.6/site-packages/ipykernel_launcher.py:4: SettingWithCopyWarning: \n",
      "A value is trying to be set on a copy of a slice from a DataFrame.\n",
      "Try using .loc[row_indexer,col_indexer] = value instead\n",
      "\n",
      "See the caveats in the documentation: http://pandas.pydata.org/pandas-docs/stable/indexing.html#indexing-view-versus-copy\n",
      "  after removing the cwd from sys.path.\n",
      "/anaconda3/lib/python3.6/site-packages/ipykernel_launcher.py:5: SettingWithCopyWarning: \n",
      "A value is trying to be set on a copy of a slice from a DataFrame.\n",
      "Try using .loc[row_indexer,col_indexer] = value instead\n",
      "\n",
      "See the caveats in the documentation: http://pandas.pydata.org/pandas-docs/stable/indexing.html#indexing-view-versus-copy\n",
      "  \"\"\"\n"
     ]
    }
   ],
   "source": [
    "# Creating some new features:\n",
    "X_Fraud['errorBalanceOrig']= X_Fraud['newBalanceOrig']+X_Fraud['amount']-X_Fraud['oldBalanceOrig']\n",
    "X_Leg['errorBalanceOrig']= X_Leg['newBalanceOrig']+X_Leg['amount']-X_Leg['oldBalanceOrig']\n",
    "X_Fraud['errorBalanceDest']= X_Fraud['newBalanceDest']+X_Fraud['amount']-X_Fraud['oldBalanceDest']\n",
    "X_Leg['errorBalanceDest']= X_Leg['newBalanceDest']+X_Leg['amount']-X_Leg['oldBalanceDest']\n",
    "X['errorBalanceOrig']= X['newBalanceOrig']+X['amount']-X['oldBalanceOrig']\n",
    "X['errorBalanceDest']= X['newBalanceDest']+X['amount']-X['oldBalanceDest']"
   ]
  },
  {
   "cell_type": "markdown",
   "metadata": {},
   "source": [
    "### Finding correlations between amount and errorBalanceDest:"
   ]
  },
  {
   "cell_type": "code",
   "execution_count": 14,
   "metadata": {},
   "outputs": [
    {
     "data": {
      "image/png": "[encoded data removed]",
      "text/plain": [
       "<matplotlib.figure.Figure at 0x1a5ca9c668>"
      ]
     },
     "metadata": {},
     "output_type": "display_data"
    }
   ],
   "source": [
    "ax=sns.jointplot(x=\"amount\", y=\"errorBalanceDest\", data=X)\n",
    "plt.show()"
   ]
  },
  {
   "cell_type": "markdown",
   "metadata": {},
   "source": [
    "### Creating heat maps for correlations:"
   ]
  },
  {
   "cell_type": "code",
   "execution_count": 15,
   "metadata": {},
   "outputs": [
    {
     "data": {
      "image/png": "[encoded data removed]",
      "text/plain": [
       "<matplotlib.figure.Figure at 0x10a7e4470>"
      ]
     },
     "metadata": {},
     "output_type": "display_data"
    }
   ],
   "source": [
    "# Correlations for legitimate case:\n",
    "correlationX_Leg = X_Leg.loc[:, ((X.columns != 'step') & (X.columns != 'isFraud'))].corr()\n",
    "\n",
    "sns.set(style=\"white\")\n",
    "\n",
    "# Generate a mask for the upper triangle\n",
    "mask = np.zeros_like(correlationX_Leg)\n",
    "indices = np.triu_indices_from(correlationX_Leg)\n",
    "mask[indices] = True\n",
    "# Generate a custom diverging colormap\n",
    "cmap = sns.diverging_palette(220, 10, as_cmap=True)\n",
    "\n",
    "f, (ax1, ax2) = plt.subplots(1, 2, figsize = (14, 9))\n",
    "ax1 =sns.heatmap(correlationX_Leg, ax = ax1, vmin = -1, vmax = 1, square = False, linewidths = 0.5, cmap=cmap, mask = mask, cbar = False, annot=True)\n",
    "ax1.set_title('Genuine \\n transactions', size = 20)\n",
    "\n",
    "# Correlations for fraudulant case:\n",
    "correlationX_Fraud = X_Fraud.loc[:, ((X.columns != 'step') & (X.columns != 'isFraud'))].corr()\n",
    "ax2 = sns.heatmap(correlationX_Fraud, vmin = -1, vmax = 1, cmap = cmap, ax = ax2, square = False, linewidths = 0.5, mask = mask, yticklabels = False, cbar_kws={\"shrink\": .5, 'ticks': [-1, -0.5, 0, 0.5, 1]}, annot=True)\n",
    "ax2.set_title('Fraudulent \\n transactions', size = 20);"
   ]
  },
  {
   "cell_type": "code",
   "execution_count": null,
   "metadata": {
    "collapsed": true
   },
   "outputs": [],
   "source": []
  }
 ],
 "metadata": {
  "kernelspec": {
   "display_name": "Python 3",
   "language": "python",
   "name": "python3"
  },
  "language_info": {
   "codemirror_mode": {
    "name": "ipython",
    "version": 3
   },
   "file_extension": ".py",
   "mimetype": "text/x-python",
   "name": "python",
   "nbconvert_exporter": "python",
   "pygments_lexer": "ipython3",
   "version": "3.6.2"
  }
 },
 "nbformat": 4,
 "nbformat_minor": 2
}
