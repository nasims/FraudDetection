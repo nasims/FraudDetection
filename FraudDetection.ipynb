{
 "cells": [
  {
   "cell_type": "code",
   "execution_count": 1,
   "metadata": {
    "collapsed": true
   },
   "outputs": [],
   "source": [
    "# 1. Import"
   ]
  },
  {
   "cell_type": "code",
   "execution_count": 2,
   "metadata": {
    "collapsed": true
   },
   "outputs": [],
   "source": [
    "# Import the necessary libraries\n",
    "import pandas as pd\n",
    "import numpy as np\n",
    "\n",
    "import matplotlib\n",
    "#matplotlib.style.use('ggplot')\n",
    "import matplotlib.pyplot as plt\n",
    "%matplotlib inline\n",
    "\n",
    "import seaborn as sns\n",
    "sns.set_style(\"dark\")\n",
    "\n",
    "import warnings\n",
    "warnings.filterwarnings(\"ignore\")"
   ]
  },
  {
   "cell_type": "code",
   "execution_count": 3,
   "metadata": {
    "collapsed": true
   },
   "outputs": [],
   "source": [
    "###Importing Data"
   ]
  },
  {
   "cell_type": "code",
   "execution_count": 4,
   "metadata": {
    "collapsed": true
   },
   "outputs": [],
   "source": [
    "df = pd.read_csv('./PS_20174392719_1491204439457_log.csv')\n",
    "df.describe()\n",
    "# Drop duplicate rows:\n",
    "df = df.drop_duplicates()"
   ]
  },
  {
   "cell_type": "code",
   "execution_count": 5,
   "metadata": {
    "collapsed": true
   },
   "outputs": [],
   "source": [
    "### step - maps a unit of time in the real world. In this case 1 step is 1 hour of time. Total steps 744 (30 days simulation).\n",
    "### type - CASH-IN, CASH-OUT, DEBIT, PAYMENT and TRANSFER.\n",
    "### amount - amount of the transaction in local currency.\n",
    "### nameOrig - customer who started the transaction\n",
    "### oldbalanceOrg - initial balance before the transaction\n",
    "### newbalanceOrig - new balance after the transaction\n",
    "### nameDest - customer who is the recipient of the transaction\n",
    "### oldbalanceDest - initial balance recipient before the transaction. Note that there is not information for customers that start with M (Merchants).\n",
    "### newbalanceDest - new balance recipient after the transaction. Note that there is not information for customers that start with M (Merchants).\n",
    "### isFraud - This is the transactions made by the fraudulent agents inside the simulation. In this specific dataset the fraudulent behavior of the agents aims to profit by taking control or customers accounts and try to empty the funds by transferring to another account and then cashing out of the system.\n",
    "### isFlaggedFraud - The business model aims to control massive transfers from one account to another and flags illegal attempts. An illegal attempt in this dataset is an attempt to transfer more than 200.000 in a single transaction.\"\"\""
   ]
  },
  {
   "cell_type": "code",
   "execution_count": null,
   "metadata": {
    "collapsed": true
   },
   "outputs": [],
   "source": [
    "# Transaction types are defined based on the following reference: http://bth.diva-portal.org/smash/get/diva2:955852/FULLTEXT06.pdf\n",
    "# CASH-IN is the process of increasing the balance of account by paying in cash to a merchant.\n",
    "# CASH-OUT is the opposite process of CASH-IN, it means to withdraw cash from a merchant which decreases the balance of the account.\n",
    "# DEBIT is similar process than CASH-OUT and involves sending the money from the mobile money service to a bank account.\n",
    "# PAYMENT is the process of paying for goods or services to merchants which decreases the balance of the account and increases the balance of the receiver.\n",
    "# TRANSFER is the process of sending money to another user of the service through the mobile money platform."
   ]
  },
  {
   "cell_type": "code",
   "execution_count": 6,
   "metadata": {
    "collapsed": true
   },
   "outputs": [],
   "source": [
    "# Some column names can be chaged:\n",
    "df = df.rename(columns={'oldbalanceOrg':'oldBalanceOrig', 'newbalanceOrig':'newBalanceOrig', 'oldbalanceDest':'oldBalanceDest', 'newbalanceDest':'newBalanceDest'})\n"
   ]
  },
  {
   "cell_type": "code",
   "execution_count": 7,
   "metadata": {},
   "outputs": [
    {
     "name": "stdout",
     "output_type": "stream",
     "text": [
      "<class 'pandas.core.frame.DataFrame'>\n",
      "Int64Index: 6362620 entries, 0 to 6362619\n",
      "Data columns (total 11 columns):\n",
      "step              int64\n",
      "type              object\n",
      "amount            float64\n",
      "nameOrig          object\n",
      "oldBalanceOrig    float64\n",
      "newBalanceOrig    float64\n",
      "nameDest          object\n",
      "oldBalanceDest    float64\n",
      "newBalanceDest    float64\n",
      "isFraud           int64\n",
      "isFlaggedFraud    int64\n",
      "dtypes: float64(5), int64(3), object(3)\n",
      "memory usage: 582.5+ MB\n"
     ]
    }
   ],
   "source": [
    "df.info()"
   ]
  },
  {
   "cell_type": "code",
   "execution_count": 8,
   "metadata": {},
   "outputs": [
    {
     "name": "stdout",
     "output_type": "stream",
     "text": [
      "   step      type    amount     nameOrig  oldBalanceOrig  newBalanceOrig  \\\n",
      "0     1   PAYMENT   9839.64  C1231006815        170136.0       160296.36   \n",
      "1     1   PAYMENT   1864.28  C1666544295         21249.0        19384.72   \n",
      "2     1  TRANSFER    181.00  C1305486145           181.0            0.00   \n",
      "3     1  CASH_OUT    181.00   C840083671           181.0            0.00   \n",
      "4     1   PAYMENT  11668.14  C2048537720         41554.0        29885.86   \n",
      "\n",
      "      nameDest  oldBalanceDest  newBalanceDest  isFraud  isFlaggedFraud  \n",
      "0  M1979787155             0.0             0.0        0               0  \n",
      "1  M2044282225             0.0             0.0        0               0  \n",
      "2   C553264065             0.0             0.0        1               0  \n",
      "3    C38997010         21182.0             0.0        1               0  \n",
      "4  M1230701703             0.0             0.0        0               0  \n"
     ]
    }
   ],
   "source": [
    "print(df.head())"
   ]
  },
  {
   "cell_type": "code",
   "execution_count": 9,
   "metadata": {},
   "outputs": [
    {
     "data": {
      "text/plain": [
       "step              False\n",
       "type              False\n",
       "amount            False\n",
       "nameOrig          False\n",
       "oldBalanceOrig    False\n",
       "newBalanceOrig    False\n",
       "nameDest          False\n",
       "oldBalanceDest    False\n",
       "newBalanceDest    False\n",
       "isFraud           False\n",
       "isFlaggedFraud    False\n",
       "dtype: bool"
      ]
     },
     "execution_count": 9,
     "metadata": {},
     "output_type": "execute_result"
    }
   ],
   "source": [
    "# Are there any missing values?\n",
    "df.isnull().any()"
   ]
  },
  {
   "cell_type": "code",
   "execution_count": 10,
   "metadata": {
    "collapsed": true
   },
   "outputs": [],
   "source": [
    "# 2. EDA (exploratory data analysis)"
   ]
  },
  {
   "cell_type": "code",
   "execution_count": 11,
   "metadata": {
    "scrolled": true
   },
   "outputs": [
    {
     "name": "stdout",
     "output_type": "stream",
     "text": [
      "Number of legitimate transactions: 6354407\n",
      "Number of fraudulent transactions: 8213\n"
     ]
    },
    {
     "data": {
      "image/png": "[encoded data removed]",
      "text/plain": [
       "<matplotlib.figure.Figure at 0x1a6576e828>"
      ]
     },
     "metadata": {},
     "output_type": "display_data"
    }
   ],
   "source": [
    "count_Fraud = df['isFraud'].map({0:'Legitimate', 1:'Fraudulent'}).value_counts()\n",
    "print('Number of legitimate transactions:', count_Fraud[0])\n",
    "print('Number of fraudulent transactions:', count_Fraud[1])\n",
    "ax = count_Fraud.plot(kind = 'bar', rot=0)\n",
    "plt.title(\"Fraud type histogram\")\n",
    "plt.xlabel(\"Type\")\n",
    "plt.ylabel(\"Frequency\")\n",
    "for p in ax.patches:\n",
    "    ax.annotate(str(format(int(p.get_height()), ',d')), (p.get_x(), p.get_height()*1.01))"
   ]
  },
  {
   "cell_type": "code",
   "execution_count": 12,
   "metadata": {
    "collapsed": true
   },
   "outputs": [],
   "source": [
    "# The data is highly imbalanced!"
   ]
  },
  {
   "cell_type": "code",
   "execution_count": 13,
   "metadata": {},
   "outputs": [
    {
     "name": "stdout",
     "output_type": "stream",
     "text": [
      "False    5413997\n",
      "True      948623\n",
      "dtype: int64\n"
     ]
    }
   ],
   "source": [
    "OldMinusNewBalance = df['oldBalanceOrig']-df['amount']==df['newBalanceOrig']\n",
    "print(OldMinusNewBalance.value_counts())\n",
    "# amount is not always equal to the difference between old and new balance!!"
   ]
  },
  {
   "cell_type": "code",
   "execution_count": 14,
   "metadata": {},
   "outputs": [
    {
     "name": "stdout",
     "output_type": "stream",
     "text": [
      "['PAYMENT' 'TRANSFER' 'CASH_OUT' 'DEBIT' 'CASH_IN']\n"
     ]
    }
   ],
   "source": [
    "# Check the types of tranactions:\n",
    "print(df['type'].unique())"
   ]
  },
  {
   "cell_type": "code",
   "execution_count": 15,
   "metadata": {},
   "outputs": [
    {
     "name": "stdout",
     "output_type": "stream",
     "text": [
      "['TRANSFER' 'CASH_OUT']\n"
     ]
    }
   ],
   "source": [
    "# Check types of tranactions which has fradulent activities:\n",
    "print(df.loc[df['isFraud']==1]['type'].unique())"
   ]
  },
  {
   "cell_type": "code",
   "execution_count": 16,
   "metadata": {},
   "outputs": [
    {
     "name": "stdout",
     "output_type": "stream",
     "text": [
      "Number is TRANSFER fradulent activities: 4097\n",
      "Number is CASH-OUT fradulent activities: 4116\n"
     ]
    }
   ],
   "source": [
    "# Check the number of fradulent activities by type of tranaction:\n",
    "print('Number is TRANSFER fradulent activities:',df.loc[(df['isFraud']==1)&(df['type']=='TRANSFER')]['type'].count())\n",
    "print('Number is CASH-OUT fradulent activities:',df.loc[(df['isFraud']==1)&(df['type']=='CASH_OUT')]['type'].count())"
   ]
  },
  {
   "cell_type": "code",
   "execution_count": 54,
   "metadata": {},
   "outputs": [
    {
     "name": "stdout",
     "output_type": "stream",
     "text": [
      "         type   amount\n",
      "2    TRANSFER    181.0\n",
      "3    CASH_OUT    181.0\n",
      "251  TRANSFER   2806.0\n",
      "252  CASH_OUT   2806.0\n",
      "680  TRANSFER  20128.0\n",
      "681  CASH_OUT  20128.0\n",
      "4097\n",
      "4116\n"
     ]
    }
   ],
   "source": [
    "#Print out the amount for fradulent activities:\n",
    "df2 = df.loc[df['isFraud']==1][['type', 'amount']]\n",
    "print(df2[:6])\n",
    "# Are all fradulent transfer activities proceeds by cash out!\n",
    "print(df2.loc[df2.type=='TRANSFER']['amount'].count())\n",
    "print(df2.loc[df2.type=='CASH_OUT']['amount'].count())"
   ]
  },
  {
   "cell_type": "code",
   "execution_count": 18,
   "metadata": {},
   "outputs": [
    {
     "name": "stdout",
     "output_type": "stream",
     "text": [
      "Minumum amount of fradulent TRANSFER: 63.8\n",
      "Minumum amount of fradulent CASH OUT (other than 0): 63.8\n",
      "Maximum amount of fradulent TRANSFER: 10000000.0\n",
      "Maximum amount of fradulent CASH OUT: 10000000.0\n"
     ]
    }
   ],
   "source": [
    "# Min and max amount of fradulent transactions:\n",
    "print('Minumum amount of fradulent TRANSFER:',df.loc[(df['isFraud']==1)&(df['type']=='TRANSFER')]['amount'].min())\n",
    "print('Minumum amount of fradulent CASH OUT (other than 0):',df.loc[(df['isFraud']==1)&(df['type']=='CASH_OUT')&(df['amount']!=0)]['amount'].min())\n",
    "print('Maximum amount of fradulent TRANSFER:',df.loc[(df['isFraud']==1)&(df['type']=='TRANSFER')]['amount'].max())\n",
    "print('Maximum amount of fradulent CASH OUT:',df.loc[(df['isFraud']==1)&(df['type']=='CASH_OUT')&(df['amount']!=0)]['amount'].max())"
   ]
  },
  {
   "cell_type": "code",
   "execution_count": 19,
   "metadata": {},
   "outputs": [
    {
     "name": "stdout",
     "output_type": "stream",
     "text": [
      "Number of isFlaggedFraud=1 cases where the amount if lower or equal to 200000: 0\n"
     ]
    }
   ],
   "source": [
    "# Check if all the transaction which are \"isFlaggedFraud\" are the one whit transaction anounts higher than 200,000, as described in the column definitios?\n",
    "print('Number of isFlaggedFraud=1 cases where the amount if lower or equal to 200000:',df.loc[(df['isFlaggedFraud']==1)&(df['amount']<=200000)]['isFlaggedFraud'].count())"
   ]
  },
  {
   "cell_type": "code",
   "execution_count": 20,
   "metadata": {},
   "outputs": [
    {
     "name": "stdout",
     "output_type": "stream",
     "text": [
      "Type of transactions in which isFlaggedFraud=1: ['TRANSFER']\n"
     ]
    }
   ],
   "source": [
    "# What are the type of isFlaggedFraud transaction?\n",
    "print('Type of transactions in which isFlaggedFraud=1:',df.loc[df['isFlaggedFraud']==1]['type'].unique())"
   ]
  },
  {
   "cell_type": "code",
   "execution_count": 21,
   "metadata": {},
   "outputs": [
    {
     "name": "stdout",
     "output_type": "stream",
     "text": [
      "Number of TRANSFERs over 200000 which are not flagged as isFlaggedFraud: 409094\n"
     ]
    }
   ],
   "source": [
    "# Now we want to check if there is any TRANSFER over 200000, in which isFlaggedFraud is not set to 1?\n",
    "print('Number of TRANSFERs over 200000 which are not flagged as isFlaggedFraud:',df.loc[(df['amount']> 200000)&(df['isFlaggedFraud']==0)&(df['type']=='TRANSFER')]['type'].count())"
   ]
  },
  {
   "cell_type": "code",
   "execution_count": 22,
   "metadata": {
    "collapsed": true
   },
   "outputs": [],
   "source": [
    "# So it seems that any TRANSFER over 200000 is not necessarily flagged as isFlaggedFraud=1, which is in contrast with the definition."
   ]
  },
  {
   "cell_type": "code",
   "execution_count": 23,
   "metadata": {},
   "outputs": [
    {
     "name": "stdout",
     "output_type": "stream",
     "text": [
      "Number of cases where isFlaggedFraud=1 but isFraud=0: 0\n"
     ]
    }
   ],
   "source": [
    "# Is there any correlation between isFlaggedFraud and isFlaggedFraud?\n",
    "print('Number of cases where isFlaggedFraud=1 but isFraud=0:',df.loc[(df['isFlaggedFraud']==1)&(df['isFraud']==0)]['type'].count())"
   ]
  },
  {
   "cell_type": "code",
   "execution_count": 24,
   "metadata": {
    "collapsed": true
   },
   "outputs": [],
   "source": [
    "# So whenever isFlaggedFraud=1, there is actually a fraud case: isFraud = 1"
   ]
  },
  {
   "cell_type": "code",
   "execution_count": 25,
   "metadata": {},
   "outputs": [
    {
     "name": "stdout",
     "output_type": "stream",
     "text": [
      "Number of cases where isFraud=1 but isFlaggedFraud=0: 8197\n"
     ]
    }
   ],
   "source": [
    "print('Number of cases where isFraud=1 but isFlaggedFraud=0:',df.loc[(df['isFraud']==1)&(df['isFlaggedFraud']==0)]['type'].count())"
   ]
  },
  {
   "cell_type": "code",
   "execution_count": 26,
   "metadata": {
    "collapsed": true
   },
   "outputs": [],
   "source": [
    "# So there are 8197 cases which are actually Fraud cases but isFlaggedFraud has failed to flag them as fradulent."
   ]
  },
  {
   "cell_type": "code",
   "execution_count": 27,
   "metadata": {},
   "outputs": [
    {
     "name": "stdout",
     "output_type": "stream",
     "text": [
      "Number of TRANSFERs where flagged as fraud: 16\n"
     ]
    }
   ],
   "source": [
    "# Make a dataframe for FlaggedFraud TRANSFERs:\n",
    "df_transfer_flagged = df.loc[(df['type']=='TRANSFER')&(df['isFlaggedFraud']==1)]\n",
    "print('Number of TRANSFERs where flagged as fraud:', df_transfer_flagged['isFlaggedFraud'].count())"
   ]
  },
  {
   "cell_type": "code",
   "execution_count": 28,
   "metadata": {},
   "outputs": [
    {
     "name": "stdout",
     "output_type": "stream",
     "text": [
      "Sum of difference between new and old balance of destinations for flagged transfers: 0.0\n",
      "Number of non-zero old balance of destonations for flagged transfers: 0\n"
     ]
    }
   ],
   "source": [
    "# Check for isFlaggedFraud and TRANSFER, what are the values and difference of oldBalanceDest and newBalanceDest\n",
    "df_transfer_flagged['new-oldBalanceDest']=df_transfer_flagged['newBalanceDest']-df_transfer_flagged['oldBalanceDest']\n",
    "print('Sum of difference between new and old balance of destinations for flagged transfers:',df_transfer_flagged['new-oldBalanceDest'].sum())\n",
    "print('Number of non-zero old balance of destonations for flagged transfers:', df_transfer_flagged.loc[df_transfer_flagged['oldBalanceDest']!=0]['oldBalanceDest'].count())"
   ]
  },
  {
   "cell_type": "code",
   "execution_count": 29,
   "metadata": {
    "collapsed": true
   },
   "outputs": [],
   "source": [
    "# So any TRANSFER that has been flagged fradulent, does not have any old or new destination balance. This can be due to suspension of the transfers because of the frad flag. So destination balances do not give us any condition for flagging a transaction fraud. "
   ]
  },
  {
   "cell_type": "code",
   "execution_count": 30,
   "metadata": {
    "scrolled": true
   },
   "outputs": [
    {
     "name": "stdout",
     "output_type": "stream",
     "text": [
      "Number of times where a customer with isFlaggedFraud TRANSFER had more than one tranaction: 0\n"
     ]
    }
   ],
   "source": [
    "# Are the isFlaggedFraud TRANSFERs for more than one transaction by a customer?\n",
    "df3 = df_transfer_flagged.groupby(\"nameOrig\").count()\n",
    "print('Number of times where a customer with isFlaggedFraud TRANSFER had more than one tranaction:', (df3['type']>1).sum())"
   ]
  },
  {
   "cell_type": "code",
   "execution_count": 31,
   "metadata": {
    "collapsed": true
   },
   "outputs": [],
   "source": [
    "# Since the above number is zero, No customer with FlaggedFraud TRANSFER had more than one transaction."
   ]
  },
  {
   "cell_type": "code",
   "execution_count": 32,
   "metadata": {},
   "outputs": [
    {
     "name": "stdout",
     "output_type": "stream",
     "text": [
      "Number of times where the origin and destination of a FlaggedFraud TRANSFER is the same person: 0\n"
     ]
    }
   ],
   "source": [
    "# Is there any case in FlaggedFraud TRANSFERs that the orig and destination name of a customer is the same?\n",
    "print('Number of times where the origin and destination of a FlaggedFraud TRANSFER is the same person:', df_transfer_flagged.loc[df_transfer_flagged['nameOrig']==df_transfer_flagged['nameDest']]['nameOrig'].count())"
   ]
  },
  {
   "cell_type": "code",
   "execution_count": 33,
   "metadata": {},
   "outputs": [
    {
     "name": "stdout",
     "output_type": "stream",
     "text": [
      "\n",
      "Have destinations for transactions flagged as fraud initiated other transactions? False\n"
     ]
    }
   ],
   "source": [
    "print('\\nHave destinations for transactions flagged as fraud initiated other transactions?', (df_transfer_flagged.nameDest.isin(df.nameOrig)).any()) # False"
   ]
  },
  {
   "cell_type": "code",
   "execution_count": 34,
   "metadata": {
    "collapsed": true
   },
   "outputs": [],
   "source": [
    "## It seems that isFlaggedFraud does not play any significant meaningful role is setting Fraud cases. Even though isFraud is set whenever isFlaggedFraud is set to true, isFlaggedFraud is on for only 16 TRANSFERs and we could not find a logical relation for this being on and the othe part of data. So isFlaggedFraud column will be removed in this dataset. "
   ]
  },
  {
   "cell_type": "code",
   "execution_count": 42,
   "metadata": {},
   "outputs": [
    {
     "data": {
      "text/html": [
       "<div>\n",
       "<style>\n",
       "    .dataframe thead tr:only-child th {\n",
       "        text-align: right;\n",
       "    }\n",
       "\n",
       "    .dataframe thead th {\n",
       "        text-align: left;\n",
       "    }\n",
       "\n",
       "    .dataframe tbody tr th {\n",
       "        vertical-align: top;\n",
       "    }\n",
       "</style>\n",
       "<table border=\"1\" class=\"dataframe\">\n",
       "  <thead>\n",
       "    <tr style=\"text-align: right;\">\n",
       "      <th></th>\n",
       "      <th>step</th>\n",
       "      <th>type</th>\n",
       "      <th>amount</th>\n",
       "      <th>nameOrig</th>\n",
       "      <th>oldBalanceOrig</th>\n",
       "      <th>newBalanceOrig</th>\n",
       "      <th>nameDest</th>\n",
       "      <th>oldBalanceDest</th>\n",
       "      <th>newBalanceDest</th>\n",
       "      <th>isFraud</th>\n",
       "      <th>isFlaggedFraud</th>\n",
       "    </tr>\n",
       "  </thead>\n",
       "  <tbody>\n",
       "    <tr>\n",
       "      <th>0</th>\n",
       "      <td>1</td>\n",
       "      <td>PAYMENT</td>\n",
       "      <td>9839.64</td>\n",
       "      <td>C1231006815</td>\n",
       "      <td>170136.0</td>\n",
       "      <td>160296.36</td>\n",
       "      <td>M1979787155</td>\n",
       "      <td>0.0</td>\n",
       "      <td>0.0</td>\n",
       "      <td>0</td>\n",
       "      <td>0</td>\n",
       "    </tr>\n",
       "    <tr>\n",
       "      <th>1</th>\n",
       "      <td>1</td>\n",
       "      <td>PAYMENT</td>\n",
       "      <td>1864.28</td>\n",
       "      <td>C1666544295</td>\n",
       "      <td>21249.0</td>\n",
       "      <td>19384.72</td>\n",
       "      <td>M2044282225</td>\n",
       "      <td>0.0</td>\n",
       "      <td>0.0</td>\n",
       "      <td>0</td>\n",
       "      <td>0</td>\n",
       "    </tr>\n",
       "    <tr>\n",
       "      <th>4</th>\n",
       "      <td>1</td>\n",
       "      <td>PAYMENT</td>\n",
       "      <td>11668.14</td>\n",
       "      <td>C2048537720</td>\n",
       "      <td>41554.0</td>\n",
       "      <td>29885.86</td>\n",
       "      <td>M1230701703</td>\n",
       "      <td>0.0</td>\n",
       "      <td>0.0</td>\n",
       "      <td>0</td>\n",
       "      <td>0</td>\n",
       "    </tr>\n",
       "    <tr>\n",
       "      <th>5</th>\n",
       "      <td>1</td>\n",
       "      <td>PAYMENT</td>\n",
       "      <td>7817.71</td>\n",
       "      <td>C90045638</td>\n",
       "      <td>53860.0</td>\n",
       "      <td>46042.29</td>\n",
       "      <td>M573487274</td>\n",
       "      <td>0.0</td>\n",
       "      <td>0.0</td>\n",
       "      <td>0</td>\n",
       "      <td>0</td>\n",
       "    </tr>\n",
       "    <tr>\n",
       "      <th>6</th>\n",
       "      <td>1</td>\n",
       "      <td>PAYMENT</td>\n",
       "      <td>7107.77</td>\n",
       "      <td>C154988899</td>\n",
       "      <td>183195.0</td>\n",
       "      <td>176087.23</td>\n",
       "      <td>M408069119</td>\n",
       "      <td>0.0</td>\n",
       "      <td>0.0</td>\n",
       "      <td>0</td>\n",
       "      <td>0</td>\n",
       "    </tr>\n",
       "  </tbody>\n",
       "</table>\n",
       "</div>"
      ],
      "text/plain": [
       "   step     type    amount     nameOrig  oldBalanceOrig  newBalanceOrig  \\\n",
       "0     1  PAYMENT   9839.64  C1231006815        170136.0       160296.36   \n",
       "1     1  PAYMENT   1864.28  C1666544295         21249.0        19384.72   \n",
       "4     1  PAYMENT  11668.14  C2048537720         41554.0        29885.86   \n",
       "5     1  PAYMENT   7817.71    C90045638         53860.0        46042.29   \n",
       "6     1  PAYMENT   7107.77   C154988899        183195.0       176087.23   \n",
       "\n",
       "      nameDest  oldBalanceDest  newBalanceDest  isFraud  isFlaggedFraud  \n",
       "0  M1979787155             0.0             0.0        0               0  \n",
       "1  M2044282225             0.0             0.0        0               0  \n",
       "4  M1230701703             0.0             0.0        0               0  \n",
       "5   M573487274             0.0             0.0        0               0  \n",
       "6   M408069119             0.0             0.0        0               0  "
      ]
     },
     "execution_count": 42,
     "metadata": {},
     "output_type": "execute_result"
    }
   ],
   "source": [
    "# Is there any record of Fraud for names starting with M (Merchants)?\n",
    "df_M = df.loc[(df.nameOrig.str.startswith('M')) | (df.nameDest.str.startswith('M'))]\n",
    "df_M.head()"
   ]
  },
  {
   "cell_type": "code",
   "execution_count": 48,
   "metadata": {},
   "outputs": [
    {
     "name": "stdout",
     "output_type": "stream",
     "text": [
      "Number of fraudulent cases involving merchant: 0\n"
     ]
    }
   ],
   "source": [
    "# Is there any fraud in merchant cases?\n",
    "print('Number of fraudulent cases involving merchant:',df_M.loc[df_M.isFraud==1]['isFraud'].count())"
   ]
  },
  {
   "cell_type": "code",
   "execution_count": null,
   "metadata": {
    "collapsed": true
   },
   "outputs": [],
   "source": [
    "# There is no record of balance from clients that start with M (Merchants). \n",
    "# According to the definitions mentioned above, a merchant should be involved in both CASH-IN and CASH-OUT transactions. \n",
    "# Since there are many CASH-OUT cases in fradulent transactions, and we don't see any merchant involved in them, it can be concluded that the name columns are not defined properly and can be dropped."
   ]
  },
  {
   "cell_type": "code",
   "execution_count": 35,
   "metadata": {
    "collapsed": true
   },
   "outputs": [],
   "source": [
    "# 3. Data Wrangling"
   ]
  },
  {
   "cell_type": "code",
   "execution_count": 39,
   "metadata": {},
   "outputs": [
    {
     "data": {
      "text/html": [
       "<div>\n",
       "<style>\n",
       "    .dataframe thead tr:only-child th {\n",
       "        text-align: right;\n",
       "    }\n",
       "\n",
       "    .dataframe thead th {\n",
       "        text-align: left;\n",
       "    }\n",
       "\n",
       "    .dataframe tbody tr th {\n",
       "        vertical-align: top;\n",
       "    }\n",
       "</style>\n",
       "<table border=\"1\" class=\"dataframe\">\n",
       "  <thead>\n",
       "    <tr style=\"text-align: right;\">\n",
       "      <th></th>\n",
       "      <th>step</th>\n",
       "      <th>type</th>\n",
       "      <th>amount</th>\n",
       "      <th>oldBalanceOrig</th>\n",
       "      <th>newBalanceOrig</th>\n",
       "      <th>oldBalanceDest</th>\n",
       "      <th>newBalanceDest</th>\n",
       "    </tr>\n",
       "  </thead>\n",
       "  <tbody>\n",
       "    <tr>\n",
       "      <th>2</th>\n",
       "      <td>1</td>\n",
       "      <td>TRANSFER</td>\n",
       "      <td>181.00</td>\n",
       "      <td>181.0</td>\n",
       "      <td>0.0</td>\n",
       "      <td>0.0</td>\n",
       "      <td>0.00</td>\n",
       "    </tr>\n",
       "    <tr>\n",
       "      <th>3</th>\n",
       "      <td>1</td>\n",
       "      <td>CASH_OUT</td>\n",
       "      <td>181.00</td>\n",
       "      <td>181.0</td>\n",
       "      <td>0.0</td>\n",
       "      <td>21182.0</td>\n",
       "      <td>0.00</td>\n",
       "    </tr>\n",
       "    <tr>\n",
       "      <th>15</th>\n",
       "      <td>1</td>\n",
       "      <td>CASH_OUT</td>\n",
       "      <td>229133.94</td>\n",
       "      <td>15325.0</td>\n",
       "      <td>0.0</td>\n",
       "      <td>5083.0</td>\n",
       "      <td>51513.44</td>\n",
       "    </tr>\n",
       "    <tr>\n",
       "      <th>19</th>\n",
       "      <td>1</td>\n",
       "      <td>TRANSFER</td>\n",
       "      <td>215310.30</td>\n",
       "      <td>705.0</td>\n",
       "      <td>0.0</td>\n",
       "      <td>22425.0</td>\n",
       "      <td>0.00</td>\n",
       "    </tr>\n",
       "    <tr>\n",
       "      <th>24</th>\n",
       "      <td>1</td>\n",
       "      <td>TRANSFER</td>\n",
       "      <td>311685.89</td>\n",
       "      <td>10835.0</td>\n",
       "      <td>0.0</td>\n",
       "      <td>6267.0</td>\n",
       "      <td>2719172.89</td>\n",
       "    </tr>\n",
       "  </tbody>\n",
       "</table>\n",
       "</div>"
      ],
      "text/plain": [
       "    step      type     amount  oldBalanceOrig  newBalanceOrig  oldBalanceDest  \\\n",
       "2      1  TRANSFER     181.00           181.0             0.0             0.0   \n",
       "3      1  CASH_OUT     181.00           181.0             0.0         21182.0   \n",
       "15     1  CASH_OUT  229133.94         15325.0             0.0          5083.0   \n",
       "19     1  TRANSFER  215310.30           705.0             0.0         22425.0   \n",
       "24     1  TRANSFER  311685.89         10835.0             0.0          6267.0   \n",
       "\n",
       "    newBalanceDest  \n",
       "2             0.00  \n",
       "3             0.00  \n",
       "15        51513.44  \n",
       "19            0.00  \n",
       "24      2719172.89  "
      ]
     },
     "execution_count": 39,
     "metadata": {},
     "output_type": "execute_result"
    }
   ],
   "source": [
    "Y = df['isFraud']\n",
    "# Since there are only two types of transactions involved in fraud, we will delete the other rows:\n",
    "X = df.loc[(df['type']=='TRANSFER') | (df['type']=='CASH_OUT')]\n",
    "X = X.drop(['isFlaggedFraud','isFraud', 'nameOrig', 'nameDest'], axis = 1)\n",
    "X.head()"
   ]
  },
  {
   "cell_type": "code",
   "execution_count": null,
   "metadata": {
    "collapsed": true
   },
   "outputs": [],
   "source": []
  }
 ],
 "metadata": {
  "kernelspec": {
   "display_name": "Python 3",
   "language": "python",
   "name": "python3"
  },
  "language_info": {
   "codemirror_mode": {
    "name": "ipython",
    "version": 3
   },
   "file_extension": ".py",
   "mimetype": "text/x-python",
   "name": "python",
   "nbconvert_exporter": "python",
   "pygments_lexer": "ipython3",
   "version": "3.6.2"
  }
 },
 "nbformat": 4,
 "nbformat_minor": 2
}
