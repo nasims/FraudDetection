{
 "cells": [
  {
   "cell_type": "markdown",
   "metadata": {
    "collapsed": true
   },
   "source": [
    "# 1. Import"
   ]
  },
  {
   "cell_type": "code",
   "execution_count": 1,
   "metadata": {
    "collapsed": true
   },
   "outputs": [],
   "source": [
    "# Import the necessary libraries\n",
    "import pandas as pd\n",
    "import numpy as np\n",
    "%config IPCompleter.greedy=True\n",
    "\n",
    "import matplotlib\n",
    "#matplotlib.style.use('ggplot')\n",
    "import matplotlib.pyplot as plt\n",
    "%matplotlib inline\n",
    "\n",
    "import seaborn as sns\n",
    "sns.set_style(\"darkgrid\")\n",
    "\n",
    "import warnings\n",
    "warnings.filterwarnings(\"ignore\")"
   ]
  },
  {
   "cell_type": "code",
   "execution_count": 2,
   "metadata": {},
   "outputs": [
    {
     "data": {
      "text/plain": [
       "[0, 1, 2, 3]"
      ]
     },
     "execution_count": 2,
     "metadata": {},
     "output_type": "execute_result"
    }
   ],
   "source": [
    "from ipyparallel import Client\n",
    "rc = Client()\n",
    "rc.ids"
   ]
  },
  {
   "cell_type": "markdown",
   "metadata": {
    "collapsed": true
   },
   "source": [
    "### Importing Data"
   ]
  },
  {
   "cell_type": "code",
   "execution_count": 3,
   "metadata": {
    "collapsed": true
   },
   "outputs": [],
   "source": [
    "df = pd.read_csv('/Users/nasim/Data_Science/Springboard/FraudDetection/PS_20174392719_1491204439457_log.csv')\n",
    "df = df[:10000]\n",
    "df.describe()\n",
    "# Drop duplicate rows:\n",
    "df = df.drop_duplicates()"
   ]
  },
  {
   "cell_type": "markdown",
   "metadata": {
    "collapsed": true
   },
   "source": [
    "#### step - maps a unit of time in the real world. In this case 1 step is 1 hour of time. Total steps 744 (30 days simulation).\n",
    "#### type - CASH-IN, CASH-OUT, DEBIT, PAYMENT and TRANSFER.\n",
    "#### amount - amount of the transaction in local currency.\n",
    "#### nameOrig - customer who started the transaction\n",
    "#### oldbalanceOrig - initial balance before the transaction\n",
    "#### newbalanceOrig - new balance after the transaction\n",
    "#### nameDest - customer who is the recipient of the transaction\n",
    "#### oldbalanceDest - initial balance recipient before the transaction. Note that there is not information for customers that start with M (Merchants).\n",
    "#### newbalanceDest - new balance recipient after the transaction. Note that there is not information for customers that start with M (Merchants).\n",
    "#### isFraud - This is the transactions made by the fraudulent agents inside the simulation. In this specific dataset the fraudulent behavior of the agents aims to profit by taking control or customers accounts and try to empty the funds by transferring to another account and then cashing out of the system.\n",
    "#### isFlaggedFraud - The business model aims to control massive transfers from one account to another and flags illegal attempts. An illegal attempt in this dataset is an attempt to transfer more than 200.000 in a single transaction.\"\"\""
   ]
  },
  {
   "cell_type": "markdown",
   "metadata": {
    "collapsed": true
   },
   "source": [
    "#### Transaction types are defined based on the following reference: http://bth.diva-portal.org/smash/get/diva2:955852/FULLTEXT06.pdf\n",
    "#### CASH-IN is the process of increasing the balance of account by paying in cash to a merchant.\n",
    "#### CASH-OUT is the opposite process of CASH-IN, it means to withdraw cash from a merchant which decreases the balance of the account.\n",
    "#### DEBIT is similar process than CASH-OUT and involves sending the money from the mobile money service to a bank account.\n",
    "#### PAYMENT is the process of paying for goods or services to merchants which decreases the balance of the account and increases the balance of the receiver.\n",
    "#### TRANSFER is the process of sending money to another user of the service through the mobile money platform.\n",
    "\n",
    "### Some column names can be changed:"
   ]
  },
  {
   "cell_type": "code",
   "execution_count": 4,
   "metadata": {
    "collapsed": true
   },
   "outputs": [],
   "source": [
    "df = df.rename(columns={'oldbalanceOrg':'oldBalanceOrig', 'newbalanceOrig':'newBalanceOrig', 'oldbalanceDest':'oldBalanceDest', 'newbalanceDest':'newBalanceDest'})\n"
   ]
  },
  {
   "cell_type": "code",
   "execution_count": 5,
   "metadata": {},
   "outputs": [
    {
     "name": "stdout",
     "output_type": "stream",
     "text": [
      "<class 'pandas.core.frame.DataFrame'>\n",
      "Int64Index: 10000 entries, 0 to 9999\n",
      "Data columns (total 11 columns):\n",
      "step              10000 non-null int64\n",
      "type              10000 non-null object\n",
      "amount            10000 non-null float64\n",
      "nameOrig          10000 non-null object\n",
      "oldBalanceOrig    10000 non-null float64\n",
      "newBalanceOrig    10000 non-null float64\n",
      "nameDest          10000 non-null object\n",
      "oldBalanceDest    10000 non-null float64\n",
      "newBalanceDest    10000 non-null float64\n",
      "isFraud           10000 non-null int64\n",
      "isFlaggedFraud    10000 non-null int64\n",
      "dtypes: float64(5), int64(3), object(3)\n",
      "memory usage: 937.5+ KB\n"
     ]
    }
   ],
   "source": [
    "df.info()"
   ]
  },
  {
   "cell_type": "code",
   "execution_count": 6,
   "metadata": {},
   "outputs": [
    {
     "name": "stdout",
     "output_type": "stream",
     "text": [
      "   step      type    amount     nameOrig  oldBalanceOrig  newBalanceOrig  \\\n",
      "0     1   PAYMENT   9839.64  C1231006815        170136.0       160296.36   \n",
      "1     1   PAYMENT   1864.28  C1666544295         21249.0        19384.72   \n",
      "2     1  TRANSFER    181.00  C1305486145           181.0            0.00   \n",
      "3     1  CASH_OUT    181.00   C840083671           181.0            0.00   \n",
      "4     1   PAYMENT  11668.14  C2048537720         41554.0        29885.86   \n",
      "\n",
      "      nameDest  oldBalanceDest  newBalanceDest  isFraud  isFlaggedFraud  \n",
      "0  M1979787155             0.0             0.0        0               0  \n",
      "1  M2044282225             0.0             0.0        0               0  \n",
      "2   C553264065             0.0             0.0        1               0  \n",
      "3    C38997010         21182.0             0.0        1               0  \n",
      "4  M1230701703             0.0             0.0        0               0  \n"
     ]
    }
   ],
   "source": [
    "print(df.head())"
   ]
  },
  {
   "cell_type": "markdown",
   "metadata": {},
   "source": [
    "### Are there any missing values?"
   ]
  },
  {
   "cell_type": "code",
   "execution_count": 7,
   "metadata": {},
   "outputs": [
    {
     "data": {
      "text/plain": [
       "step              False\n",
       "type              False\n",
       "amount            False\n",
       "nameOrig          False\n",
       "oldBalanceOrig    False\n",
       "newBalanceOrig    False\n",
       "nameDest          False\n",
       "oldBalanceDest    False\n",
       "newBalanceDest    False\n",
       "isFraud           False\n",
       "isFlaggedFraud    False\n",
       "dtype: bool"
      ]
     },
     "execution_count": 7,
     "metadata": {},
     "output_type": "execute_result"
    }
   ],
   "source": [
    "df.isnull().any()"
   ]
  },
  {
   "cell_type": "markdown",
   "metadata": {
    "collapsed": true
   },
   "source": [
    "# 2. Exploratory Data Analysis (EDA) "
   ]
  },
  {
   "cell_type": "code",
   "execution_count": 8,
   "metadata": {
    "scrolled": true
   },
   "outputs": [
    {
     "name": "stdout",
     "output_type": "stream",
     "text": [
      "Number of legitimate transactions: 9932\n",
      "Number of fraudulent transactions: 68\n"
     ]
    },
    {
     "data": {
      "image/png": "[encoded data removed]",
      "text/plain": [
       "<matplotlib.figure.Figure at 0x110004390>"
      ]
     },
     "metadata": {},
     "output_type": "display_data"
    }
   ],
   "source": [
    "count_Fraud = df['isFraud'].map({0:'Legitimate', 1:'Fraudulent'}).value_counts()\n",
    "print('Number of legitimate transactions:', count_Fraud[0])\n",
    "print('Number of fraudulent transactions:', count_Fraud[1])\n",
    "ax = count_Fraud.plot(kind = 'bar', rot=0)\n",
    "plt.title(\"Fraud type histogram\")\n",
    "plt.xlabel(\"Type\")\n",
    "plt.ylabel(\"Frequency\")\n",
    "for p in ax.patches:\n",
    "    ax.annotate(str(format(int(p.get_height()), ',d')), (p.get_x(), p.get_height()*1.01))"
   ]
  },
  {
   "cell_type": "markdown",
   "metadata": {},
   "source": [
    "### Checking types of fradulant and legitimate transactions:"
   ]
  },
  {
   "cell_type": "code",
   "execution_count": 9,
   "metadata": {},
   "outputs": [
    {
     "data": {
      "image/png": "[encoded data removed]",
      "text/plain": [
       "<matplotlib.figure.Figure at 0x10b625b00>"
      ]
     },
     "metadata": {},
     "output_type": "display_data"
    }
   ],
   "source": [
    "ax = sns.countplot(x='type', data=df, hue='isFraud')"
   ]
  },
  {
   "cell_type": "markdown",
   "metadata": {
    "collapsed": true
   },
   "source": [
    "#### The data is highly imbalanced!"
   ]
  },
  {
   "cell_type": "code",
   "execution_count": 10,
   "metadata": {},
   "outputs": [
    {
     "data": {
      "text/plain": [
       "<seaborn.axisgrid.PairGrid at 0x10d9d7e10>"
      ]
     },
     "execution_count": 10,
     "metadata": {},
     "output_type": "execute_result"
    },
    {
     "data": {
      "image/png": "[encoded data removed]",
      "text/plain": [
       "<matplotlib.figure.Figure at 0x10d9d7588>"
      ]
     },
     "metadata": {},
     "output_type": "display_data"
    }
   ],
   "source": [
    "sns.pairplot(df[['amount', 'oldBalanceOrig', 'oldBalanceDest', 'isFraud']], hue='isFraud')"
   ]
  },
  {
   "cell_type": "code",
   "execution_count": 11,
   "metadata": {},
   "outputs": [
    {
     "data": {
      "image/png": "[encoded data removed]",
      "text/plain": [
       "<matplotlib.figure.Figure at 0x1a4a5d6cc0>"
      ]
     },
     "metadata": {},
     "output_type": "display_data"
    }
   ],
   "source": [
    "ax = sns.boxplot(x = 'isFlaggedFraud', y = 'amount', data = df)\n",
    "ax.set_yscale('log')"
   ]
  },
  {
   "cell_type": "code",
   "execution_count": 12,
   "metadata": {
    "scrolled": true
   },
   "outputs": [
    {
     "data": {
      "image/png": "[encoded data removed]",
      "text/plain": [
       "<matplotlib.figure.Figure at 0x1a5784beb8>"
      ]
     },
     "metadata": {},
     "output_type": "display_data"
    }
   ],
   "source": [
    "plt.figure(figsize=(12,8))\n",
    "ax = sns.boxplot(x = 'type', y = 'amount', hue='isFraud', data = df)\n",
    "ax.set_yscale('log')"
   ]
  },
  {
   "cell_type": "markdown",
   "metadata": {},
   "source": [
    "#### The amount is higher for fraudulent transactions."
   ]
  },
  {
   "cell_type": "code",
   "execution_count": 13,
   "metadata": {},
   "outputs": [
    {
     "name": "stdout",
     "output_type": "stream",
     "text": [
      "False    6910\n",
      "True     3090\n",
      "dtype: int64\n"
     ]
    }
   ],
   "source": [
    "OldMinusNewBalance = df['oldBalanceOrig']-df['amount']==df['newBalanceOrig']\n",
    "print(OldMinusNewBalance.value_counts())"
   ]
  },
  {
   "cell_type": "markdown",
   "metadata": {},
   "source": [
    "#### amount is not always equal to the difference between old and new balance!!\n",
    "\n",
    "### Check the types of tranactions:"
   ]
  },
  {
   "cell_type": "code",
   "execution_count": 14,
   "metadata": {},
   "outputs": [
    {
     "name": "stdout",
     "output_type": "stream",
     "text": [
      "['PAYMENT' 'TRANSFER' 'CASH_OUT' 'DEBIT' 'CASH_IN']\n"
     ]
    }
   ],
   "source": [
    "print(df['type'].unique())"
   ]
  },
  {
   "cell_type": "markdown",
   "metadata": {},
   "source": [
    "### Check types of tranactions which has fradulent activities:"
   ]
  },
  {
   "cell_type": "code",
   "execution_count": 15,
   "metadata": {},
   "outputs": [
    {
     "name": "stdout",
     "output_type": "stream",
     "text": [
      "['TRANSFER' 'CASH_OUT']\n"
     ]
    }
   ],
   "source": [
    "print(df.loc[df['isFraud']==1]['type'].unique())"
   ]
  },
  {
   "cell_type": "markdown",
   "metadata": {},
   "source": [
    "#### Only TRANSFER abd CASH_OUT  types are fraudulent."
   ]
  },
  {
   "cell_type": "markdown",
   "metadata": {},
   "source": [
    "### Check the number of fradulent activities by type of tranaction:"
   ]
  },
  {
   "cell_type": "code",
   "execution_count": 16,
   "metadata": {},
   "outputs": [
    {
     "name": "stdout",
     "output_type": "stream",
     "text": [
      "Number of TRANSFER fradulent activities: 33\n",
      "Number of CASH-OUT fradulent activities: 35\n"
     ]
    }
   ],
   "source": [
    "print('Number of TRANSFER fradulent activities:',df.loc[(df['isFraud']==1)&(df['type']=='TRANSFER')]['type'].count())\n",
    "print('Number of CASH-OUT fradulent activities:',df.loc[(df['isFraud']==1)&(df['type']=='CASH_OUT')]['type'].count())"
   ]
  },
  {
   "cell_type": "code",
   "execution_count": 17,
   "metadata": {},
   "outputs": [
    {
     "data": {
      "text/plain": [
       "type\n",
       "CASH_IN      0\n",
       "CASH_OUT    35\n",
       "DEBIT        0\n",
       "PAYMENT      0\n",
       "TRANSFER    33\n",
       "Name: isFraud, dtype: int64"
      ]
     },
     "execution_count": 17,
     "metadata": {},
     "output_type": "execute_result"
    }
   ],
   "source": [
    "df.groupby('type')['isFraud'].agg('sum')"
   ]
  },
  {
   "cell_type": "markdown",
   "metadata": {},
   "source": [
    "### Print out the amount for fradulent activities:"
   ]
  },
  {
   "cell_type": "code",
   "execution_count": 18,
   "metadata": {},
   "outputs": [
    {
     "name": "stdout",
     "output_type": "stream",
     "text": [
      "         type   amount\n",
      "2    TRANSFER    181.0\n",
      "3    CASH_OUT    181.0\n",
      "251  TRANSFER   2806.0\n",
      "252  CASH_OUT   2806.0\n",
      "680  TRANSFER  20128.0\n",
      "681  CASH_OUT  20128.0\n"
     ]
    }
   ],
   "source": [
    "df2 = df.loc[df['isFraud']==1][['type', 'amount']]\n",
    "print(df2[:6])"
   ]
  },
  {
   "cell_type": "markdown",
   "metadata": {},
   "source": [
    "### Are all fradulent transfer activities proceed by cash out?"
   ]
  },
  {
   "cell_type": "code",
   "execution_count": 19,
   "metadata": {},
   "outputs": [
    {
     "name": "stdout",
     "output_type": "stream",
     "text": [
      "33\n",
      "35\n"
     ]
    }
   ],
   "source": [
    "print(df2.loc[df2.type=='TRANSFER']['amount'].count())\n",
    "print(df2.loc[df2.type=='CASH_OUT']['amount'].count())"
   ]
  },
  {
   "cell_type": "markdown",
   "metadata": {},
   "source": [
    "### Min and max amount of fradulent transactions:"
   ]
  },
  {
   "cell_type": "code",
   "execution_count": 20,
   "metadata": {},
   "outputs": [
    {
     "name": "stdout",
     "output_type": "stream",
     "text": [
      "Minumum amount of fradulent TRANSFER: 181.0\n",
      "Minumum amount of fradulent CASH OUT (other than 0): 181.0\n",
      "Maximum amount of fradulent TRANSFER: 10000000.0\n",
      "Maximum amount of fradulent CASH OUT: 10000000.0\n"
     ]
    }
   ],
   "source": [
    "# Min and max amount of fradulent transactions:\n",
    "print('Minumum amount of fradulent TRANSFER:',df.loc[(df['isFraud']==1)&(df['type']=='TRANSFER')]['amount'].min())\n",
    "print('Minumum amount of fradulent CASH OUT (other than 0):',df.loc[(df['isFraud']==1)&(df['type']=='CASH_OUT')&(df['amount']!=0)]['amount'].min())\n",
    "print('Maximum amount of fradulent TRANSFER:',df.loc[(df['isFraud']==1)&(df['type']=='TRANSFER')]['amount'].max())\n",
    "print('Maximum amount of fradulent CASH OUT:',df.loc[(df['isFraud']==1)&(df['type']=='CASH_OUT')&(df['amount']!=0)]['amount'].max())"
   ]
  },
  {
   "cell_type": "markdown",
   "metadata": {},
   "source": [
    "### Check if all the transactions which are \"isFlaggedFraud\" are the ones with transaction amounts higher than 200,000, as described in the column definitios?"
   ]
  },
  {
   "cell_type": "code",
   "execution_count": 21,
   "metadata": {},
   "outputs": [
    {
     "name": "stdout",
     "output_type": "stream",
     "text": [
      "Number of isFlaggedFraud=1 cases where the amount if lower or equal to 200000: 0\n"
     ]
    }
   ],
   "source": [
    "print('Number of isFlaggedFraud=1 cases where the amount if lower or equal to 200000:',df.loc[(df['isFlaggedFraud']==1)&(df['amount']<=200000)]['isFlaggedFraud'].count())"
   ]
  },
  {
   "cell_type": "markdown",
   "metadata": {},
   "source": [
    "### What are the type of isFlaggedFraud transaction?"
   ]
  },
  {
   "cell_type": "code",
   "execution_count": 22,
   "metadata": {},
   "outputs": [
    {
     "name": "stdout",
     "output_type": "stream",
     "text": [
      "Type of transactions in which isFlaggedFraud=1: []\n"
     ]
    }
   ],
   "source": [
    "print('Type of transactions in which isFlaggedFraud=1:',df.loc[df['isFlaggedFraud']==1]['type'].unique())"
   ]
  },
  {
   "cell_type": "markdown",
   "metadata": {},
   "source": [
    "### Check if there is any TRANSFER over 200000, in which isFlaggedFraud is not set to 1?"
   ]
  },
  {
   "cell_type": "code",
   "execution_count": 23,
   "metadata": {
    "scrolled": true
   },
   "outputs": [
    {
     "name": "stdout",
     "output_type": "stream",
     "text": [
      "Number of TRANSFERs over 200000 which are not flagged as isFlaggedFraud: 543\n"
     ]
    }
   ],
   "source": [
    "print('Number of TRANSFERs over 200000 which are not flagged as isFlaggedFraud:',df.loc[(df['amount']> 200000)&(df['isFlaggedFraud']==0)&(df['type']=='TRANSFER')]['type'].count())"
   ]
  },
  {
   "cell_type": "markdown",
   "metadata": {},
   "source": [
    "#### So it seems that any TRANSFER over 200000 is not necessarily flagged as isFlaggedFraud=1, which is in contrast with the definition.\n",
    "\n",
    "### Is there any correlation between isFlaggedFraud and isFlaggedFraud?"
   ]
  },
  {
   "cell_type": "code",
   "execution_count": 24,
   "metadata": {},
   "outputs": [
    {
     "name": "stdout",
     "output_type": "stream",
     "text": [
      "Number of cases where isFlaggedFraud=1 but isFraud=0: 0\n"
     ]
    }
   ],
   "source": [
    "print('Number of cases where isFlaggedFraud=1 but isFraud=0:',df.loc[(df['isFlaggedFraud']==1)&(df['isFraud']==0)]['type'].count())"
   ]
  },
  {
   "cell_type": "markdown",
   "metadata": {
    "collapsed": true
   },
   "source": [
    "#### So whenever isFlaggedFraud=1, there is actually a fraud case: isFraud = 1"
   ]
  },
  {
   "cell_type": "code",
   "execution_count": 25,
   "metadata": {},
   "outputs": [
    {
     "name": "stdout",
     "output_type": "stream",
     "text": [
      "Number of cases where isFraud=1 but isFlaggedFraud=0: 68\n"
     ]
    }
   ],
   "source": [
    "print('Number of cases where isFraud=1 but isFlaggedFraud=0:',df.loc[(df['isFraud']==1)&(df['isFlaggedFraud']==0)]['type'].count())"
   ]
  },
  {
   "cell_type": "markdown",
   "metadata": {
    "collapsed": true
   },
   "source": [
    "#### So there are 8197 cases which are actually Fraud cases but isFlaggedFraud has failed to flag them as fradulent.\n",
    "\n",
    "### Make a dataframe for FlaggedFraud TRANSFERs:"
   ]
  },
  {
   "cell_type": "code",
   "execution_count": 26,
   "metadata": {},
   "outputs": [
    {
     "name": "stdout",
     "output_type": "stream",
     "text": [
      "Number of TRANSFERs where flagged as fraud: 0\n"
     ]
    }
   ],
   "source": [
    "df_transfer_flagged = df.loc[(df['type']=='TRANSFER')&(df['isFlaggedFraud']==1)]\n",
    "print('Number of TRANSFERs where flagged as fraud:', df_transfer_flagged['isFlaggedFraud'].count())"
   ]
  },
  {
   "cell_type": "markdown",
   "metadata": {},
   "source": [
    "### Check for isFlaggedFraud and TRANSFER, what are the values and difference of oldBalanceDest and newBalanceDest"
   ]
  },
  {
   "cell_type": "code",
   "execution_count": 27,
   "metadata": {},
   "outputs": [
    {
     "name": "stdout",
     "output_type": "stream",
     "text": [
      "Sum of difference between new and old balance of destinations for flagged transfers: 0\n",
      "Number of non-zero old balance of destinations for flagged transfers: 0\n"
     ]
    }
   ],
   "source": [
    "df_transfer_flagged['new-oldBalanceDest']=df_transfer_flagged['newBalanceDest']-df_transfer_flagged['oldBalanceDest']\n",
    "print('Sum of difference between new and old balance of destinations for flagged transfers:',df_transfer_flagged['new-oldBalanceDest'].sum())\n",
    "print('Number of non-zero old balance of destinations for flagged transfers:', df_transfer_flagged.loc[df_transfer_flagged['oldBalanceDest']!=0]['oldBalanceDest'].count())"
   ]
  },
  {
   "cell_type": "markdown",
   "metadata": {
    "collapsed": true
   },
   "source": [
    "#### So any TRANSFER that has been flagged fradulent, does not have any old or new destination balances. This can be due to suspension of the transfers because of the fraud flag. So destination balances do not give us any condition for flagging a transaction fraud. \n",
    "\n",
    "### Are isFlaggedFraud TRANSFERs for more than one transaction by a customer?"
   ]
  },
  {
   "cell_type": "code",
   "execution_count": 28,
   "metadata": {
    "scrolled": true
   },
   "outputs": [
    {
     "name": "stdout",
     "output_type": "stream",
     "text": [
      "Number of times where a customer with isFlaggedFraud TRANSFER had more than one tranaction: 0\n"
     ]
    }
   ],
   "source": [
    "df3 = df_transfer_flagged.groupby(\"nameOrig\").count()\n",
    "print('Number of times where a customer with isFlaggedFraud TRANSFER had more than one tranaction:', (df3['type']>1).sum())"
   ]
  },
  {
   "cell_type": "markdown",
   "metadata": {
    "collapsed": true
   },
   "source": [
    "#### Since the above number is zero, No customer with FlaggedFraud TRANSFER had more than one transaction.\n",
    "\n",
    "### Is there any case in FlaggedFraud TRANSFERs that the orig and destination name of a customer is the same?"
   ]
  },
  {
   "cell_type": "code",
   "execution_count": 29,
   "metadata": {},
   "outputs": [
    {
     "name": "stdout",
     "output_type": "stream",
     "text": [
      "Number of times where the origin and destination of a FlaggedFraud TRANSFER is the same person: 0\n"
     ]
    }
   ],
   "source": [
    "print('Number of times where the origin and destination of a FlaggedFraud TRANSFER is the same person:', df_transfer_flagged.loc[df_transfer_flagged['nameOrig']==df_transfer_flagged['nameDest']]['nameOrig'].count())"
   ]
  },
  {
   "cell_type": "code",
   "execution_count": 30,
   "metadata": {},
   "outputs": [
    {
     "name": "stdout",
     "output_type": "stream",
     "text": [
      "\n",
      "Have destinations for transactions flagged as fraud initiated other transactions? False\n"
     ]
    }
   ],
   "source": [
    "print('\\nHave destinations for transactions flagged as fraud initiated other transactions?', (df_transfer_flagged.nameDest.isin(df.nameOrig)).any()) # False"
   ]
  },
  {
   "cell_type": "markdown",
   "metadata": {
    "collapsed": true
   },
   "source": [
    "#### It seems that isFlaggedFraud does not play any significant meaningful role is setting Fraud cases. Even though isFraud is set whenever isFlaggedFraud is set to true, isFlaggedFraud is on only for 16 TRANSFERs and we could not find a logical relation for this being on and the othe part of data. So isFlaggedFraud column will be removed in this dataset. \n",
    "\n",
    "### Is there any record of Fraud for names starting with M (Merchants)?"
   ]
  },
  {
   "cell_type": "code",
   "execution_count": 31,
   "metadata": {
    "scrolled": true
   },
   "outputs": [
    {
     "data": {
      "text/html": [
       "<div>\n",
       "<style>\n",
       "    .dataframe thead tr:only-child th {\n",
       "        text-align: right;\n",
       "    }\n",
       "\n",
       "    .dataframe thead th {\n",
       "        text-align: left;\n",
       "    }\n",
       "\n",
       "    .dataframe tbody tr th {\n",
       "        vertical-align: top;\n",
       "    }\n",
       "</style>\n",
       "<table border=\"1\" class=\"dataframe\">\n",
       "  <thead>\n",
       "    <tr style=\"text-align: right;\">\n",
       "      <th></th>\n",
       "      <th>step</th>\n",
       "      <th>type</th>\n",
       "      <th>amount</th>\n",
       "      <th>nameOrig</th>\n",
       "      <th>oldBalanceOrig</th>\n",
       "      <th>newBalanceOrig</th>\n",
       "      <th>nameDest</th>\n",
       "      <th>oldBalanceDest</th>\n",
       "      <th>newBalanceDest</th>\n",
       "      <th>isFraud</th>\n",
       "      <th>isFlaggedFraud</th>\n",
       "    </tr>\n",
       "  </thead>\n",
       "  <tbody>\n",
       "    <tr>\n",
       "      <th>0</th>\n",
       "      <td>1</td>\n",
       "      <td>PAYMENT</td>\n",
       "      <td>9839.64</td>\n",
       "      <td>C1231006815</td>\n",
       "      <td>170136.0</td>\n",
       "      <td>160296.36</td>\n",
       "      <td>M1979787155</td>\n",
       "      <td>0.0</td>\n",
       "      <td>0.0</td>\n",
       "      <td>0</td>\n",
       "      <td>0</td>\n",
       "    </tr>\n",
       "    <tr>\n",
       "      <th>1</th>\n",
       "      <td>1</td>\n",
       "      <td>PAYMENT</td>\n",
       "      <td>1864.28</td>\n",
       "      <td>C1666544295</td>\n",
       "      <td>21249.0</td>\n",
       "      <td>19384.72</td>\n",
       "      <td>M2044282225</td>\n",
       "      <td>0.0</td>\n",
       "      <td>0.0</td>\n",
       "      <td>0</td>\n",
       "      <td>0</td>\n",
       "    </tr>\n",
       "    <tr>\n",
       "      <th>4</th>\n",
       "      <td>1</td>\n",
       "      <td>PAYMENT</td>\n",
       "      <td>11668.14</td>\n",
       "      <td>C2048537720</td>\n",
       "      <td>41554.0</td>\n",
       "      <td>29885.86</td>\n",
       "      <td>M1230701703</td>\n",
       "      <td>0.0</td>\n",
       "      <td>0.0</td>\n",
       "      <td>0</td>\n",
       "      <td>0</td>\n",
       "    </tr>\n",
       "    <tr>\n",
       "      <th>5</th>\n",
       "      <td>1</td>\n",
       "      <td>PAYMENT</td>\n",
       "      <td>7817.71</td>\n",
       "      <td>C90045638</td>\n",
       "      <td>53860.0</td>\n",
       "      <td>46042.29</td>\n",
       "      <td>M573487274</td>\n",
       "      <td>0.0</td>\n",
       "      <td>0.0</td>\n",
       "      <td>0</td>\n",
       "      <td>0</td>\n",
       "    </tr>\n",
       "    <tr>\n",
       "      <th>6</th>\n",
       "      <td>1</td>\n",
       "      <td>PAYMENT</td>\n",
       "      <td>7107.77</td>\n",
       "      <td>C154988899</td>\n",
       "      <td>183195.0</td>\n",
       "      <td>176087.23</td>\n",
       "      <td>M408069119</td>\n",
       "      <td>0.0</td>\n",
       "      <td>0.0</td>\n",
       "      <td>0</td>\n",
       "      <td>0</td>\n",
       "    </tr>\n",
       "  </tbody>\n",
       "</table>\n",
       "</div>"
      ],
      "text/plain": [
       "   step     type    amount     nameOrig  oldBalanceOrig  newBalanceOrig  \\\n",
       "0     1  PAYMENT   9839.64  C1231006815        170136.0       160296.36   \n",
       "1     1  PAYMENT   1864.28  C1666544295         21249.0        19384.72   \n",
       "4     1  PAYMENT  11668.14  C2048537720         41554.0        29885.86   \n",
       "5     1  PAYMENT   7817.71    C90045638         53860.0        46042.29   \n",
       "6     1  PAYMENT   7107.77   C154988899        183195.0       176087.23   \n",
       "\n",
       "      nameDest  oldBalanceDest  newBalanceDest  isFraud  isFlaggedFraud  \n",
       "0  M1979787155             0.0             0.0        0               0  \n",
       "1  M2044282225             0.0             0.0        0               0  \n",
       "4  M1230701703             0.0             0.0        0               0  \n",
       "5   M573487274             0.0             0.0        0               0  \n",
       "6   M408069119             0.0             0.0        0               0  "
      ]
     },
     "execution_count": 31,
     "metadata": {},
     "output_type": "execute_result"
    }
   ],
   "source": [
    "df_M = df.loc[(df.nameOrig.str.startswith('M')) | (df.nameDest.str.startswith('M'))]\n",
    "df_M.head()"
   ]
  },
  {
   "cell_type": "code",
   "execution_count": 32,
   "metadata": {},
   "outputs": [
    {
     "name": "stdout",
     "output_type": "stream",
     "text": [
      "Number of fraudulent cases involving merchants: 0\n"
     ]
    }
   ],
   "source": [
    "print('Number of fraudulent cases involving merchants:',df_M.loc[df_M.isFraud==1]['isFraud'].count())"
   ]
  },
  {
   "cell_type": "markdown",
   "metadata": {
    "collapsed": true
   },
   "source": [
    "#### There is no record of balance from clients that start with M (Merchants). \n",
    "#### According to the definitions mentioned above, a merchant should be involved in both CASH-IN and CASH-OUT transactions. \n",
    "#### Since there are many CASH-OUT cases in fradulent transactions, and we don't see any merchant involved in them, it can be concluded that the name columns are not defined properly and can be dropped."
   ]
  },
  {
   "cell_type": "markdown",
   "metadata": {
    "collapsed": true
   },
   "source": [
    "# 3. Data Wrangling"
   ]
  },
  {
   "cell_type": "markdown",
   "metadata": {},
   "source": [
    "#### Since there are only two types of transactions involved in fraud, we will delete the other rows:"
   ]
  },
  {
   "cell_type": "code",
   "execution_count": 33,
   "metadata": {},
   "outputs": [
    {
     "data": {
      "text/html": [
       "<div>\n",
       "<style>\n",
       "    .dataframe thead tr:only-child th {\n",
       "        text-align: right;\n",
       "    }\n",
       "\n",
       "    .dataframe thead th {\n",
       "        text-align: left;\n",
       "    }\n",
       "\n",
       "    .dataframe tbody tr th {\n",
       "        vertical-align: top;\n",
       "    }\n",
       "</style>\n",
       "<table border=\"1\" class=\"dataframe\">\n",
       "  <thead>\n",
       "    <tr style=\"text-align: right;\">\n",
       "      <th></th>\n",
       "      <th>step</th>\n",
       "      <th>type</th>\n",
       "      <th>amount</th>\n",
       "      <th>oldBalanceOrig</th>\n",
       "      <th>newBalanceOrig</th>\n",
       "      <th>oldBalanceDest</th>\n",
       "      <th>newBalanceDest</th>\n",
       "      <th>isFraud</th>\n",
       "    </tr>\n",
       "  </thead>\n",
       "  <tbody>\n",
       "    <tr>\n",
       "      <th>0</th>\n",
       "      <td>1</td>\n",
       "      <td>TRANSFER</td>\n",
       "      <td>181.00</td>\n",
       "      <td>181.00</td>\n",
       "      <td>0.0</td>\n",
       "      <td>0.0</td>\n",
       "      <td>0.00</td>\n",
       "      <td>1</td>\n",
       "    </tr>\n",
       "    <tr>\n",
       "      <th>1</th>\n",
       "      <td>1</td>\n",
       "      <td>CASH_OUT</td>\n",
       "      <td>181.00</td>\n",
       "      <td>181.00</td>\n",
       "      <td>0.0</td>\n",
       "      <td>21182.0</td>\n",
       "      <td>0.00</td>\n",
       "      <td>1</td>\n",
       "    </tr>\n",
       "    <tr>\n",
       "      <th>2</th>\n",
       "      <td>1</td>\n",
       "      <td>CASH_OUT</td>\n",
       "      <td>229133.94</td>\n",
       "      <td>15325.00</td>\n",
       "      <td>0.0</td>\n",
       "      <td>5083.0</td>\n",
       "      <td>51513.44</td>\n",
       "      <td>0</td>\n",
       "    </tr>\n",
       "    <tr>\n",
       "      <th>3</th>\n",
       "      <td>1</td>\n",
       "      <td>TRANSFER</td>\n",
       "      <td>215310.30</td>\n",
       "      <td>705.00</td>\n",
       "      <td>0.0</td>\n",
       "      <td>22425.0</td>\n",
       "      <td>0.00</td>\n",
       "      <td>0</td>\n",
       "    </tr>\n",
       "    <tr>\n",
       "      <th>4</th>\n",
       "      <td>1</td>\n",
       "      <td>TRANSFER</td>\n",
       "      <td>311685.89</td>\n",
       "      <td>10835.00</td>\n",
       "      <td>0.0</td>\n",
       "      <td>6267.0</td>\n",
       "      <td>2719172.89</td>\n",
       "      <td>0</td>\n",
       "    </tr>\n",
       "    <tr>\n",
       "      <th>5</th>\n",
       "      <td>1</td>\n",
       "      <td>CASH_OUT</td>\n",
       "      <td>110414.71</td>\n",
       "      <td>26845.41</td>\n",
       "      <td>0.0</td>\n",
       "      <td>288800.0</td>\n",
       "      <td>2415.16</td>\n",
       "      <td>0</td>\n",
       "    </tr>\n",
       "    <tr>\n",
       "      <th>6</th>\n",
       "      <td>1</td>\n",
       "      <td>CASH_OUT</td>\n",
       "      <td>56953.90</td>\n",
       "      <td>1942.02</td>\n",
       "      <td>0.0</td>\n",
       "      <td>70253.0</td>\n",
       "      <td>64106.18</td>\n",
       "      <td>0</td>\n",
       "    </tr>\n",
       "    <tr>\n",
       "      <th>7</th>\n",
       "      <td>1</td>\n",
       "      <td>CASH_OUT</td>\n",
       "      <td>5346.89</td>\n",
       "      <td>0.00</td>\n",
       "      <td>0.0</td>\n",
       "      <td>652637.0</td>\n",
       "      <td>6453430.91</td>\n",
       "      <td>0</td>\n",
       "    </tr>\n",
       "    <tr>\n",
       "      <th>8</th>\n",
       "      <td>1</td>\n",
       "      <td>CASH_OUT</td>\n",
       "      <td>23261.30</td>\n",
       "      <td>20411.53</td>\n",
       "      <td>0.0</td>\n",
       "      <td>25742.0</td>\n",
       "      <td>0.00</td>\n",
       "      <td>0</td>\n",
       "    </tr>\n",
       "    <tr>\n",
       "      <th>9</th>\n",
       "      <td>1</td>\n",
       "      <td>TRANSFER</td>\n",
       "      <td>62610.80</td>\n",
       "      <td>79114.00</td>\n",
       "      <td>16503.2</td>\n",
       "      <td>517.0</td>\n",
       "      <td>8383.29</td>\n",
       "      <td>0</td>\n",
       "    </tr>\n",
       "  </tbody>\n",
       "</table>\n",
       "</div>"
      ],
      "text/plain": [
       "   step      type     amount  oldBalanceOrig  newBalanceOrig  oldBalanceDest  \\\n",
       "0     1  TRANSFER     181.00          181.00             0.0             0.0   \n",
       "1     1  CASH_OUT     181.00          181.00             0.0         21182.0   \n",
       "2     1  CASH_OUT  229133.94        15325.00             0.0          5083.0   \n",
       "3     1  TRANSFER  215310.30          705.00             0.0         22425.0   \n",
       "4     1  TRANSFER  311685.89        10835.00             0.0          6267.0   \n",
       "5     1  CASH_OUT  110414.71        26845.41             0.0        288800.0   \n",
       "6     1  CASH_OUT   56953.90         1942.02             0.0         70253.0   \n",
       "7     1  CASH_OUT    5346.89            0.00             0.0        652637.0   \n",
       "8     1  CASH_OUT   23261.30        20411.53             0.0         25742.0   \n",
       "9     1  TRANSFER   62610.80        79114.00         16503.2           517.0   \n",
       "\n",
       "   newBalanceDest  isFraud  \n",
       "0            0.00        1  \n",
       "1            0.00        1  \n",
       "2        51513.44        0  \n",
       "3            0.00        0  \n",
       "4      2719172.89        0  \n",
       "5         2415.16        0  \n",
       "6        64106.18        0  \n",
       "7      6453430.91        0  \n",
       "8            0.00        0  \n",
       "9         8383.29        0  "
      ]
     },
     "execution_count": 33,
     "metadata": {},
     "output_type": "execute_result"
    }
   ],
   "source": [
    "X = df.loc[(df['type']=='TRANSFER') | (df['type']=='CASH_OUT')]\n",
    "X = X.drop(['isFlaggedFraud','nameOrig', 'nameDest'], axis = 1).reset_index(drop=True)\n",
    "y = X['isFraud']\n",
    "X_Fraud = X.loc[y==1]\n",
    "X_Leg = X.loc[y==0]\n",
    "X.head(10)"
   ]
  },
  {
   "cell_type": "markdown",
   "metadata": {},
   "source": [
    "#### Plot Fraudulent and legitimate transactions after cleaning the data:"
   ]
  },
  {
   "cell_type": "code",
   "execution_count": 34,
   "metadata": {},
   "outputs": [
    {
     "data": {
      "image/png": "[encoded data removed]",
      "text/plain": [
       "<matplotlib.figure.Figure at 0x1a44209e80>"
      ]
     },
     "metadata": {},
     "output_type": "display_data"
    }
   ],
   "source": [
    "ax = sns.countplot(x='type', data=X, hue=y)\n",
    "for p in ax.patches:\n",
    "    ax.annotate(str(format(int(p.get_height()), ',d')), (p.get_x(), p.get_height()*1.01))"
   ]
  },
  {
   "cell_type": "markdown",
   "metadata": {
    "collapsed": true
   },
   "source": [
    "#### There are lots of zero values in new and old destination balances even though the amount is not zero. These values may need to be replaced.\n",
    "\n",
    "#### First we will look at the percentage of above condition for both fradulant and legitimate transactions:"
   ]
  },
  {
   "cell_type": "code",
   "execution_count": 35,
   "metadata": {},
   "outputs": [
    {
     "name": "stdout",
     "output_type": "stream",
     "text": [
      "Percentage of fradulant transactions where new and old destination balances are zero, even though the amount is not zero: 45.5882352941 %\n",
      "Percentage of legitimate transactions where new and old destination balances are zero, even though the amount is not zero: 0.0459981600736 %\n"
     ]
    }
   ],
   "source": [
    "print('Percentage of fradulant transactions where new and old destination balances are zero, even though the amount is not zero:', X_Fraud.loc[(X_Fraud.amount!=0) & (X_Fraud.oldBalanceDest==0) & (X_Fraud.newBalanceDest==0)]['type'].count()/X_Fraud.type.count()*100,'%')\n",
    "print('Percentage of legitimate transactions where new and old destination balances are zero, even though the amount is not zero:', X_Leg.loc[(X_Leg.amount!=0) & (X_Leg.oldBalanceDest==0) & (X_Leg.newBalanceDest==0)]['type'].count()/X_Leg.type.count()*100,'%')"
   ]
  },
  {
   "cell_type": "code",
   "execution_count": 36,
   "metadata": {
    "scrolled": false
   },
   "outputs": [
    {
     "name": "stdout",
     "output_type": "stream",
     "text": [
      "Percentage of fradulant transactions where new and old original balances are zero, even though the amount is not zero: 1.47058823529 %\n",
      "Percentage of legitimate transactions where new and old original balances are zero, even though the amount is not zero: 60.0735970561 %\n"
     ]
    }
   ],
   "source": [
    "print('Percentage of fradulant transactions where new and old original balances are zero, even though the amount is not zero:', X_Fraud.loc[(X_Fraud.amount!=0) & (X_Fraud.oldBalanceOrig==0) & (X_Fraud.newBalanceOrig==0)]['type'].count()/X_Fraud.type.count()*100,'%')\n",
    "print('Percentage of legitimate transactions where new and old original balances are zero, even though the amount is not zero:', X_Leg.loc[(X_Leg.amount!=0) & (X_Leg.oldBalanceOrig==0) & (X_Leg.newBalanceOrig==0)]['type'].count()/X_Leg.type.count()*100,'%')"
   ]
  },
  {
   "cell_type": "markdown",
   "metadata": {},
   "source": [
    "#### It is clear that the old and new destination balances being zero when amount is not zero happens much more often for fradulant trasactions. So it can be an indicator of the fraud. Therefore these values should not be replaced.\n",
    "#### Also for original accounts, fraudulent transactions have much less percentage of new and old original balances being zero compared to legitimate transactions. For the same reason as above, we will keep these number and won't replace them. \n",
    "#### Instead we will create two new features calculating the error for both original and destination balances:"
   ]
  },
  {
   "cell_type": "code",
   "execution_count": 37,
   "metadata": {
    "collapsed": true
   },
   "outputs": [],
   "source": [
    "X_Fraud['errorBalanceOrig']= X_Fraud['newBalanceOrig']+X_Fraud['amount']-X_Fraud['oldBalanceOrig']\n",
    "X_Leg['errorBalanceOrig']= X_Leg['newBalanceOrig']+X_Leg['amount']-X_Leg['oldBalanceOrig']\n",
    "X_Fraud['errorBalanceDest']= X_Fraud['newBalanceDest']+X_Fraud['amount']-X_Fraud['oldBalanceDest']\n",
    "X_Leg['errorBalanceDest']= X_Leg['newBalanceDest']+X_Leg['amount']-X_Leg['oldBalanceDest']\n",
    "X['errorBalanceOrig']= X['newBalanceOrig']+X['amount']-X['oldBalanceOrig']\n",
    "X['errorBalanceDest']= X['newBalanceDest']+X['amount']-X['oldBalanceDest']"
   ]
  },
  {
   "cell_type": "markdown",
   "metadata": {},
   "source": [
    "### Time Variations:"
   ]
  },
  {
   "cell_type": "markdown",
   "metadata": {},
   "source": [
    "#### Next we will plot changes in number of fradulent and legitimate transactions over time. "
   ]
  },
  {
   "cell_type": "code",
   "execution_count": 38,
   "metadata": {},
   "outputs": [
    {
     "data": {
      "text/html": [
       "<div>\n",
       "<style>\n",
       "    .dataframe thead tr:only-child th {\n",
       "        text-align: right;\n",
       "    }\n",
       "\n",
       "    .dataframe thead th {\n",
       "        text-align: left;\n",
       "    }\n",
       "\n",
       "    .dataframe tbody tr th {\n",
       "        vertical-align: top;\n",
       "    }\n",
       "</style>\n",
       "<table border=\"1\" class=\"dataframe\">\n",
       "  <thead>\n",
       "    <tr style=\"text-align: right;\">\n",
       "      <th></th>\n",
       "      <th>step</th>\n",
       "      <th>type</th>\n",
       "      <th>amount</th>\n",
       "      <th>oldBalanceOrig</th>\n",
       "      <th>newBalanceOrig</th>\n",
       "      <th>oldBalanceDest</th>\n",
       "      <th>newBalanceDest</th>\n",
       "      <th>isFraud</th>\n",
       "      <th>errorBalanceOrig</th>\n",
       "      <th>errorBalanceDest</th>\n",
       "    </tr>\n",
       "  </thead>\n",
       "  <tbody>\n",
       "    <tr>\n",
       "      <th>0</th>\n",
       "      <td>1</td>\n",
       "      <td>CASH_OUT</td>\n",
       "      <td>9</td>\n",
       "      <td>9</td>\n",
       "      <td>9</td>\n",
       "      <td>9</td>\n",
       "      <td>9</td>\n",
       "      <td>9</td>\n",
       "      <td>9</td>\n",
       "      <td>9</td>\n",
       "    </tr>\n",
       "    <tr>\n",
       "      <th>1</th>\n",
       "      <td>1</td>\n",
       "      <td>TRANSFER</td>\n",
       "      <td>7</td>\n",
       "      <td>7</td>\n",
       "      <td>7</td>\n",
       "      <td>7</td>\n",
       "      <td>7</td>\n",
       "      <td>7</td>\n",
       "      <td>7</td>\n",
       "      <td>7</td>\n",
       "    </tr>\n",
       "    <tr>\n",
       "      <th>2</th>\n",
       "      <td>2</td>\n",
       "      <td>CASH_OUT</td>\n",
       "      <td>4</td>\n",
       "      <td>4</td>\n",
       "      <td>4</td>\n",
       "      <td>4</td>\n",
       "      <td>4</td>\n",
       "      <td>4</td>\n",
       "      <td>4</td>\n",
       "      <td>4</td>\n",
       "    </tr>\n",
       "    <tr>\n",
       "      <th>3</th>\n",
       "      <td>2</td>\n",
       "      <td>TRANSFER</td>\n",
       "      <td>4</td>\n",
       "      <td>4</td>\n",
       "      <td>4</td>\n",
       "      <td>4</td>\n",
       "      <td>4</td>\n",
       "      <td>4</td>\n",
       "      <td>4</td>\n",
       "      <td>4</td>\n",
       "    </tr>\n",
       "    <tr>\n",
       "      <th>4</th>\n",
       "      <td>3</td>\n",
       "      <td>CASH_OUT</td>\n",
       "      <td>2</td>\n",
       "      <td>2</td>\n",
       "      <td>2</td>\n",
       "      <td>2</td>\n",
       "      <td>2</td>\n",
       "      <td>2</td>\n",
       "      <td>2</td>\n",
       "      <td>2</td>\n",
       "    </tr>\n",
       "  </tbody>\n",
       "</table>\n",
       "</div>"
      ],
      "text/plain": [
       "   step      type  amount  oldBalanceOrig  newBalanceOrig  oldBalanceDest  \\\n",
       "0     1  CASH_OUT       9               9               9               9   \n",
       "1     1  TRANSFER       7               7               7               7   \n",
       "2     2  CASH_OUT       4               4               4               4   \n",
       "3     2  TRANSFER       4               4               4               4   \n",
       "4     3  CASH_OUT       2               2               2               2   \n",
       "\n",
       "   newBalanceDest  isFraud  errorBalanceOrig  errorBalanceDest  \n",
       "0               9        9                 9                 9  \n",
       "1               7        7                 7                 7  \n",
       "2               4        4                 4                 4  \n",
       "3               4        4                 4                 4  \n",
       "4               2        2                 2                 2  "
      ]
     },
     "execution_count": 38,
     "metadata": {},
     "output_type": "execute_result"
    }
   ],
   "source": [
    "X_Fraud_t = X_Fraud.groupby(['step', 'type']).count().reset_index()\n",
    "X_Leg_t = X_Leg.groupby(['step', 'type']).count().reset_index()\n",
    "X_Fraud_t.head()"
   ]
  },
  {
   "cell_type": "code",
   "execution_count": 39,
   "metadata": {},
   "outputs": [
    {
     "data": {
      "image/png": "[encoded data removed]",
      "text/plain": [
       "<matplotlib.figure.Figure at 0x1a3e35f198>"
      ]
     },
     "metadata": {},
     "output_type": "display_data"
    },
    {
     "data": {
      "image/png": "[encoded data removed]",
      "text/plain": [
       "<matplotlib.figure.Figure at 0x1a57843b38>"
      ]
     },
     "metadata": {},
     "output_type": "display_data"
    }
   ],
   "source": [
    "sns.lmplot(y='amount', x=\"step\", data=X_Leg_t, fit_reg=False, hue='type', legend=False, palette='Set1')\n",
    "plt.legend(loc='upper right')\n",
    "plt.title('Legitimate Transactions')\n",
    "plt.xlabel('Time (hr)')\n",
    "plt.ylabel('Number of Cases')\n",
    "\n",
    "sns.lmplot(y='amount', x=\"step\", data=X_Fraud_t, fit_reg=False, hue='type', legend=False, palette='Set1')\n",
    "plt.legend(loc='upper right')\n",
    "plt.title('Fraudulent Transactions')\n",
    "plt.xlabel('Time (hr)')\n",
    "plt.ylabel('Number of Cases')\n",
    "\n",
    "plt.tight_layout()\n",
    "plt.show()"
   ]
  },
  {
   "cell_type": "markdown",
   "metadata": {},
   "source": [
    "#### From the above figures, it is clear that for legitimate transactions, number of CASH-OUT is higher than TRANSFERs per hour, while for fradulent transacyions, CASH-OUT and TRANSFER are equal on many hours.\n",
    "\n",
    "#### Also fradulent cases are more distributed over time than legitimate transactions. For legitimate case, both transactions drop after hour 400."
   ]
  },
  {
   "cell_type": "markdown",
   "metadata": {
    "collapsed": true
   },
   "source": [
    "#### Amount Variations over Time:"
   ]
  },
  {
   "cell_type": "code",
   "execution_count": 40,
   "metadata": {},
   "outputs": [
    {
     "data": {
      "image/png": "[encoded data removed]",
      "text/plain": [
       "<matplotlib.figure.Figure at 0x1a3cdfe940>"
      ]
     },
     "metadata": {},
     "output_type": "display_data"
    }
   ],
   "source": [
    "\n",
    "ax = sns.lmplot(y='amount', x=\"step\", data=X, fit_reg=False, hue='isFraud', col='isFraud', legend=False, palette='bright')\n",
    "plt.title('Legitimate Transactions')\n",
    "plt.xlabel('Time (hr)')\n",
    "plt.ylabel('Amount')\n",
    "#ax.set_yscale('log')\n",
    "\n",
    "plt.tight_layout()\n",
    "plt.show()"
   ]
  },
  {
   "cell_type": "markdown",
   "metadata": {},
   "source": [
    "#### For legitimate transactions, there is a peak in amount at around 300hr, while for fraudulent cases, the amount is more evenly distributed."
   ]
  },
  {
   "cell_type": "markdown",
   "metadata": {
    "collapsed": true
   },
   "source": [
    "### Plotting Error Balances"
   ]
  },
  {
   "cell_type": "code",
   "execution_count": 41,
   "metadata": {},
   "outputs": [
    {
     "data": {
      "text/html": [
       "<div>\n",
       "<style>\n",
       "    .dataframe thead tr:only-child th {\n",
       "        text-align: right;\n",
       "    }\n",
       "\n",
       "    .dataframe thead th {\n",
       "        text-align: left;\n",
       "    }\n",
       "\n",
       "    .dataframe tbody tr th {\n",
       "        vertical-align: top;\n",
       "    }\n",
       "</style>\n",
       "<table border=\"1\" class=\"dataframe\">\n",
       "  <thead>\n",
       "    <tr style=\"text-align: right;\">\n",
       "      <th></th>\n",
       "      <th>step</th>\n",
       "      <th>type</th>\n",
       "      <th>amount</th>\n",
       "      <th>oldBalanceOrig</th>\n",
       "      <th>newBalanceOrig</th>\n",
       "      <th>oldBalanceDest</th>\n",
       "      <th>newBalanceDest</th>\n",
       "      <th>isFraud</th>\n",
       "      <th>errorBalanceOrig</th>\n",
       "      <th>errorBalanceDest</th>\n",
       "    </tr>\n",
       "  </thead>\n",
       "  <tbody>\n",
       "    <tr>\n",
       "      <th>0</th>\n",
       "      <td>1</td>\n",
       "      <td>TRANSFER</td>\n",
       "      <td>181.00</td>\n",
       "      <td>181.0</td>\n",
       "      <td>0.0</td>\n",
       "      <td>0.0</td>\n",
       "      <td>0.00</td>\n",
       "      <td>1</td>\n",
       "      <td>0.00</td>\n",
       "      <td>181.00</td>\n",
       "    </tr>\n",
       "    <tr>\n",
       "      <th>1</th>\n",
       "      <td>1</td>\n",
       "      <td>CASH_OUT</td>\n",
       "      <td>181.00</td>\n",
       "      <td>181.0</td>\n",
       "      <td>0.0</td>\n",
       "      <td>21182.0</td>\n",
       "      <td>0.00</td>\n",
       "      <td>1</td>\n",
       "      <td>0.00</td>\n",
       "      <td>-21001.00</td>\n",
       "    </tr>\n",
       "    <tr>\n",
       "      <th>2</th>\n",
       "      <td>1</td>\n",
       "      <td>CASH_OUT</td>\n",
       "      <td>229133.94</td>\n",
       "      <td>15325.0</td>\n",
       "      <td>0.0</td>\n",
       "      <td>5083.0</td>\n",
       "      <td>51513.44</td>\n",
       "      <td>0</td>\n",
       "      <td>213808.94</td>\n",
       "      <td>275564.38</td>\n",
       "    </tr>\n",
       "    <tr>\n",
       "      <th>3</th>\n",
       "      <td>1</td>\n",
       "      <td>TRANSFER</td>\n",
       "      <td>215310.30</td>\n",
       "      <td>705.0</td>\n",
       "      <td>0.0</td>\n",
       "      <td>22425.0</td>\n",
       "      <td>0.00</td>\n",
       "      <td>0</td>\n",
       "      <td>214605.30</td>\n",
       "      <td>192885.30</td>\n",
       "    </tr>\n",
       "    <tr>\n",
       "      <th>4</th>\n",
       "      <td>1</td>\n",
       "      <td>TRANSFER</td>\n",
       "      <td>311685.89</td>\n",
       "      <td>10835.0</td>\n",
       "      <td>0.0</td>\n",
       "      <td>6267.0</td>\n",
       "      <td>2719172.89</td>\n",
       "      <td>0</td>\n",
       "      <td>300850.89</td>\n",
       "      <td>3024591.78</td>\n",
       "    </tr>\n",
       "  </tbody>\n",
       "</table>\n",
       "</div>"
      ],
      "text/plain": [
       "   step      type     amount  oldBalanceOrig  newBalanceOrig  oldBalanceDest  \\\n",
       "0     1  TRANSFER     181.00           181.0             0.0             0.0   \n",
       "1     1  CASH_OUT     181.00           181.0             0.0         21182.0   \n",
       "2     1  CASH_OUT  229133.94         15325.0             0.0          5083.0   \n",
       "3     1  TRANSFER  215310.30           705.0             0.0         22425.0   \n",
       "4     1  TRANSFER  311685.89         10835.0             0.0          6267.0   \n",
       "\n",
       "   newBalanceDest  isFraud  errorBalanceOrig  errorBalanceDest  \n",
       "0            0.00        1              0.00            181.00  \n",
       "1            0.00        1              0.00         -21001.00  \n",
       "2        51513.44        0         213808.94         275564.38  \n",
       "3            0.00        0         214605.30         192885.30  \n",
       "4      2719172.89        0         300850.89        3024591.78  "
      ]
     },
     "execution_count": 41,
     "metadata": {},
     "output_type": "execute_result"
    }
   ],
   "source": [
    "X.head()"
   ]
  },
  {
   "cell_type": "code",
   "execution_count": 42,
   "metadata": {
    "scrolled": true
   },
   "outputs": [
    {
     "data": {
      "image/png": "[encoded data removed]",
      "text/plain": [
       "<matplotlib.figure.Figure at 0x1a46a5ad68>"
      ]
     },
     "metadata": {},
     "output_type": "display_data"
    }
   ],
   "source": [
    "ax=sns.lmplot(y='errorBalanceOrig', x=\"step\", data=X, col=\"isFraud\", hue=\"isFraud\", fit_reg=False, palette='bright',legend=False)\n",
    "plt.xlabel('Time (hr)')\n",
    "plt.ylabel('errorBalanceOrig')\n",
    "#plt.ylim(0,1e8)\n",
    "#plt.yscale('log')\n",
    "\n",
    "plt.tight_layout()\n",
    "plt.show()"
   ]
  },
  {
   "cell_type": "code",
   "execution_count": 43,
   "metadata": {
    "scrolled": true
   },
   "outputs": [
    {
     "data": {
      "image/png": "[encoded data removed]",
      "text/plain": [
       "<matplotlib.figure.Figure at 0x1a57850278>"
      ]
     },
     "metadata": {},
     "output_type": "display_data"
    }
   ],
   "source": [
    "sns.lmplot(y='errorBalanceDest', x=\"step\", data=X, col=\"isFraud\", hue=\"isFraud\", fit_reg=False, palette='bright',legend=False)\n",
    "plt.xlabel('Time (hr)')\n",
    "plt.ylabel('errorBalanceDest')\n",
    "#plt.ylim(0,1e8)\n",
    "#plt.yscale('log')\n",
    "\n",
    "plt.tight_layout()\n",
    "plt.show()"
   ]
  },
  {
   "cell_type": "code",
   "execution_count": 44,
   "metadata": {},
   "outputs": [
    {
     "data": {
      "image/png": "[encoded data removed]",
      "text/plain": [
       "<matplotlib.figure.Figure at 0x1a62f4e908>"
      ]
     },
     "metadata": {},
     "output_type": "display_data"
    }
   ],
   "source": [
    "ax=sns.jointplot(x=\"amount\", y=\"errorBalanceDest\", data=X)\n",
    "plt.show()\n"
   ]
  },
  {
   "cell_type": "markdown",
   "metadata": {},
   "source": [
    "#### Creating heat maps for correlations:"
   ]
  },
  {
   "cell_type": "code",
   "execution_count": 45,
   "metadata": {},
   "outputs": [
    {
     "data": {
      "image/png": "[encoded data removed]",
      "text/plain": [
       "<matplotlib.figure.Figure at 0x1a43a0e1d0>"
      ]
     },
     "metadata": {},
     "output_type": "display_data"
    }
   ],
   "source": [
    "# Correlations for legitimate case:\n",
    "correlationX_Leg = X_Leg.loc[:, ((X.columns != 'step') & (X.columns != 'isFraud'))].corr()\n",
    "\n",
    "sns.set(style=\"white\")\n",
    "\n",
    "# Generate a mask for the upper triangle\n",
    "mask = np.zeros_like(correlationX_Leg)\n",
    "indices = np.triu_indices_from(correlationX_Leg)\n",
    "mask[indices] = True\n",
    "# Generate a custom diverging colormap\n",
    "cmap = sns.diverging_palette(220, 10, as_cmap=True)\n",
    "\n",
    "f, (ax1, ax2) = plt.subplots(1, 2, figsize = (14, 9))\n",
    "ax1 =sns.heatmap(correlationX_Leg, ax = ax1, vmin = -1, vmax = 1, square = False, linewidths = 0.5, cmap=cmap, mask = mask, cbar = False, annot=True)\n",
    "ax1.set_title('Genuine \\n transactions', size = 20)\n",
    "\n",
    "# Correlations for fraudulent case:\n",
    "correlationX_Fraud = X_Fraud.loc[:, ((X.columns != 'step') & (X.columns != 'isFraud'))].corr()\n",
    "ax2 = sns.heatmap(correlationX_Fraud, vmin = -1, vmax = 1, cmap = cmap, ax = ax2, square = False, linewidths = 0.5, mask = mask, yticklabels = False, cbar_kws={\"shrink\": .5, 'ticks': [-1, -0.5, 0, 0.5, 1]}, annot=True)\n",
    "ax2.set_title('Fraudulent \\n transactions', size = 20);"
   ]
  },
  {
   "cell_type": "markdown",
   "metadata": {
    "collapsed": true
   },
   "source": [
    "# 4. Machine Learning"
   ]
  },
  {
   "cell_type": "markdown",
   "metadata": {},
   "source": [
    "#### We need to encode the categorical features as binary variables to use them in sklearn’s random forest classifier."
   ]
  },
  {
   "cell_type": "code",
   "execution_count": 46,
   "metadata": {
    "collapsed": true
   },
   "outputs": [],
   "source": [
    "X_original = X\n",
    "X_original = pd.get_dummies(X_original)"
   ]
  },
  {
   "cell_type": "markdown",
   "metadata": {},
   "source": [
    "#### The data is imbalanced. We will take different approaches to fix this problem."
   ]
  },
  {
   "cell_type": "code",
   "execution_count": 47,
   "metadata": {},
   "outputs": [
    {
     "data": {
      "text/plain": [
       "0    2174\n",
       "1      68\n",
       "Name: isFraud, dtype: int64"
      ]
     },
     "execution_count": 47,
     "metadata": {},
     "output_type": "execute_result"
    }
   ],
   "source": [
    "X_original.isFraud.value_counts()"
   ]
  },
  {
   "cell_type": "markdown",
   "metadata": {
    "collapsed": true
   },
   "source": [
    "### 1. Oversampling Fraudulent Cases Using Resample\n",
    "#### Up-sampling is the process of randomly duplicating observations from the minority class in order to reinforce its signal. Here we simply resample with replacement to generate more samples of Fraudulent transactions.\n",
    "#### Due to the imbalanced nature of the data, we are interested in recall, to make sure we do not have many false negatives."
   ]
  },
  {
   "cell_type": "code",
   "execution_count": 48,
   "metadata": {
    "collapsed": true
   },
   "outputs": [],
   "source": [
    "# Split data to train and test:\n",
    "from sklearn.model_selection import train_test_split\n",
    "#Xtrain, Xtest, ytrain, ytest = train_test_split(X, y, test_size=0.25, random_state = 42) "
   ]
  },
  {
   "cell_type": "code",
   "execution_count": 49,
   "metadata": {
    "collapsed": true
   },
   "outputs": [],
   "source": [
    "from sklearn.utils import resample"
   ]
  },
  {
   "cell_type": "raw",
   "metadata": {},
   "source": [
    "# Upsample fraudulent cases\n",
    "Xtrain_upsamp_Leg = Xtrain_upsamp.loc[X[\"isFraud\"]==0]\n",
    "Xtrain_upsamp_Fraud = Xtrain_upsamp.loc[X[\"isFraud\"]==1]\n",
    "nsamples = Xtrain_Leg.isFraud.value_counts()[0]\n",
    "Xtrain_upsamp = resample(Xtrain_Fraud, replace=True,     # sample with replacement\n",
    "                                 n_samples=nsamples,    # to match legitimate class\n",
    "                                 random_state= 21) # reproducible results\n",
    " Xtrain_upsamp_Leg = Xtrain_upsamp.loc[X[\"isFraud\"]==0]\n",
    "Xtrain_upsamp_Fraud = Xtrain_upsamp.loc[X[\"isFraud\"]==1]\n",
    "# Combine legitimate cases with upsampled fraudulent cases\n",
    "X_upsamp = pd.concat([X_Leg, X_Fraud_upsamp])\n",
    " \n",
    "# Display new class counts\n",
    "X_upsamp.isFraud.value_counts()"
   ]
  },
  {
   "cell_type": "raw",
   "metadata": {
    "scrolled": true
   },
   "source": [
    "y_upsamp = X_upsamp['isFraud']\n",
    "X_upsamp = X_upsamp.drop(['isFraud'], axis = 1)\n",
    "X.head()"
   ]
  },
  {
   "cell_type": "markdown",
   "metadata": {},
   "source": [
    "#### Now we use Logistic Regression to classify this data"
   ]
  },
  {
   "cell_type": "raw",
   "metadata": {},
   "source": [
    "from sklearn.linear_model import LogisticRegression\n",
    "from sklearn.metrics import accuracy_score\n",
    "# Train model\n",
    "clf_0 = LogisticRegression().fit(Xtrain_upsamp, ytrain_upsamp) \n",
    "# Predict on training set\n",
    "pred_y_0 = clf_0.predict(Xtrain_upsamp)\n",
    "print(\"Accuracy for training data: \", accuracy_score(pred_y_0, ytrain_upsamp) )\n",
    "print(\"Accuracy for test upsampled data: \", accuracy_score(clf_0.predict(Xtest_upsamp), ytest_upsamp))"
   ]
  },
  {
   "cell_type": "markdown",
   "metadata": {
    "collapsed": true
   },
   "source": [
    "### 2. Oversampling Fraudulent Cases Using SMOTE\n",
    "#### First we create train and test data and then resample our data"
   ]
  },
  {
   "cell_type": "code",
   "execution_count": 50,
   "metadata": {},
   "outputs": [
    {
     "data": {
      "text/html": [
       "<div>\n",
       "<style>\n",
       "    .dataframe thead tr:only-child th {\n",
       "        text-align: right;\n",
       "    }\n",
       "\n",
       "    .dataframe thead th {\n",
       "        text-align: left;\n",
       "    }\n",
       "\n",
       "    .dataframe tbody tr th {\n",
       "        vertical-align: top;\n",
       "    }\n",
       "</style>\n",
       "<table border=\"1\" class=\"dataframe\">\n",
       "  <thead>\n",
       "    <tr style=\"text-align: right;\">\n",
       "      <th></th>\n",
       "      <th>step</th>\n",
       "      <th>amount</th>\n",
       "      <th>oldBalanceOrig</th>\n",
       "      <th>newBalanceOrig</th>\n",
       "      <th>oldBalanceDest</th>\n",
       "      <th>newBalanceDest</th>\n",
       "      <th>errorBalanceOrig</th>\n",
       "      <th>errorBalanceDest</th>\n",
       "      <th>type_CASH_OUT</th>\n",
       "      <th>type_TRANSFER</th>\n",
       "    </tr>\n",
       "  </thead>\n",
       "  <tbody>\n",
       "    <tr>\n",
       "      <th>0</th>\n",
       "      <td>1</td>\n",
       "      <td>181.00</td>\n",
       "      <td>181.0</td>\n",
       "      <td>0.0</td>\n",
       "      <td>0.0</td>\n",
       "      <td>0.00</td>\n",
       "      <td>0.00</td>\n",
       "      <td>181.00</td>\n",
       "      <td>0</td>\n",
       "      <td>1</td>\n",
       "    </tr>\n",
       "    <tr>\n",
       "      <th>1</th>\n",
       "      <td>1</td>\n",
       "      <td>181.00</td>\n",
       "      <td>181.0</td>\n",
       "      <td>0.0</td>\n",
       "      <td>21182.0</td>\n",
       "      <td>0.00</td>\n",
       "      <td>0.00</td>\n",
       "      <td>-21001.00</td>\n",
       "      <td>1</td>\n",
       "      <td>0</td>\n",
       "    </tr>\n",
       "    <tr>\n",
       "      <th>2</th>\n",
       "      <td>1</td>\n",
       "      <td>229133.94</td>\n",
       "      <td>15325.0</td>\n",
       "      <td>0.0</td>\n",
       "      <td>5083.0</td>\n",
       "      <td>51513.44</td>\n",
       "      <td>213808.94</td>\n",
       "      <td>275564.38</td>\n",
       "      <td>1</td>\n",
       "      <td>0</td>\n",
       "    </tr>\n",
       "    <tr>\n",
       "      <th>3</th>\n",
       "      <td>1</td>\n",
       "      <td>215310.30</td>\n",
       "      <td>705.0</td>\n",
       "      <td>0.0</td>\n",
       "      <td>22425.0</td>\n",
       "      <td>0.00</td>\n",
       "      <td>214605.30</td>\n",
       "      <td>192885.30</td>\n",
       "      <td>0</td>\n",
       "      <td>1</td>\n",
       "    </tr>\n",
       "    <tr>\n",
       "      <th>4</th>\n",
       "      <td>1</td>\n",
       "      <td>311685.89</td>\n",
       "      <td>10835.0</td>\n",
       "      <td>0.0</td>\n",
       "      <td>6267.0</td>\n",
       "      <td>2719172.89</td>\n",
       "      <td>300850.89</td>\n",
       "      <td>3024591.78</td>\n",
       "      <td>0</td>\n",
       "      <td>1</td>\n",
       "    </tr>\n",
       "  </tbody>\n",
       "</table>\n",
       "</div>"
      ],
      "text/plain": [
       "   step     amount  oldBalanceOrig  newBalanceOrig  oldBalanceDest  \\\n",
       "0     1     181.00           181.0             0.0             0.0   \n",
       "1     1     181.00           181.0             0.0         21182.0   \n",
       "2     1  229133.94         15325.0             0.0          5083.0   \n",
       "3     1  215310.30           705.0             0.0         22425.0   \n",
       "4     1  311685.89         10835.0             0.0          6267.0   \n",
       "\n",
       "   newBalanceDest  errorBalanceOrig  errorBalanceDest  type_CASH_OUT  \\\n",
       "0            0.00              0.00            181.00              0   \n",
       "1            0.00              0.00         -21001.00              1   \n",
       "2        51513.44         213808.94         275564.38              1   \n",
       "3            0.00         214605.30         192885.30              0   \n",
       "4      2719172.89         300850.89        3024591.78              0   \n",
       "\n",
       "   type_TRANSFER  \n",
       "0              1  \n",
       "1              0  \n",
       "2              0  \n",
       "3              1  \n",
       "4              1  "
      ]
     },
     "execution_count": 50,
     "metadata": {},
     "output_type": "execute_result"
    }
   ],
   "source": [
    "y = X_original['isFraud']\n",
    "X = X_original.drop([\"isFraud\"], axis=1)\n",
    "X.head()"
   ]
  },
  {
   "cell_type": "code",
   "execution_count": 51,
   "metadata": {
    "collapsed": true
   },
   "outputs": [],
   "source": [
    "# Split data to train and test:\n",
    "Xtrain, Xtest, ytrain, ytest = train_test_split(X, y, test_size=0.25, random_state = 42) "
   ]
  },
  {
   "cell_type": "code",
   "execution_count": 52,
   "metadata": {},
   "outputs": [
    {
     "name": "stdout",
     "output_type": "stream",
     "text": [
      "ytrain values: \n",
      " 0    1627\n",
      "1      54\n",
      "Name: isFraud, dtype: int64\n",
      "y_res values:  [1627 1627]\n"
     ]
    },
    {
     "name": "stderr",
     "output_type": "stream",
     "text": [
      "/anaconda3/lib/python3.6/site-packages/sklearn/utils/deprecation.py:75: DeprecationWarning: Function _ratio_float is deprecated; Use a float for 'ratio' is deprecated from version 0.2. The support will be removed in 0.4. Use a dict, str, or a callable instead.\n",
      "  warnings.warn(msg, category=DeprecationWarning)\n"
     ]
    }
   ],
   "source": [
    "from imblearn.over_sampling import SMOTE\n",
    "sm = SMOTE(random_state=12, ratio = 1.0)\n",
    "X_res, y_res = sm.fit_sample(Xtrain, ytrain)\n",
    "print (\"ytrain values: \\n\", ytrain.value_counts())\n",
    "print (\"y_res values: \", np.bincount(y_res))"
   ]
  },
  {
   "cell_type": "markdown",
   "metadata": {},
   "source": [
    "#### After upsampling, we build a random forest model to classify the fraudulent cases."
   ]
  },
  {
   "cell_type": "markdown",
   "metadata": {},
   "source": [
    "### Random Forest Classifier"
   ]
  },
  {
   "cell_type": "code",
   "execution_count": 53,
   "metadata": {
    "collapsed": true
   },
   "outputs": [],
   "source": [
    "from sklearn.ensemble import RandomForestClassifier\n",
    "from sklearn.model_selection import cross_val_score\n",
    "from sklearn.model_selection import GridSearchCV\n",
    "from sklearn.metrics import accuracy_score\n",
    "from sklearn.metrics import recall_score\n",
    "clf_rf = RandomForestClassifier(random_state=12)\n",
    "param_grid = { \n",
    "    'n_estimators': [10, 20, 30, 40, 50, 100],\n",
    "    'max_features': ['auto', 'sqrt', 'log2'],\n",
    "    'criterion' :['gini', 'entropy']\n",
    "}"
   ]
  },
  {
   "cell_type": "code",
   "execution_count": 54,
   "metadata": {},
   "outputs": [
    {
     "data": {
      "text/plain": [
       "GridSearchCV(cv=5, error_score='raise',\n",
       "       estimator=RandomForestClassifier(bootstrap=True, class_weight=None, criterion='gini',\n",
       "            max_depth=None, max_features='auto', max_leaf_nodes=None,\n",
       "            min_impurity_decrease=0.0, min_impurity_split=None,\n",
       "            min_samples_leaf=1, min_samples_split=2,\n",
       "            min_weight_fraction_leaf=0.0, n_estimators=10, n_jobs=1,\n",
       "            oob_score=False, random_state=12, verbose=0, warm_start=False),\n",
       "       fit_params=None, iid=True, n_jobs=1,\n",
       "       param_grid={'n_estimators': [10, 20, 30, 40, 50, 100], 'max_features': ['auto', 'sqrt', 'log2'], 'criterion': ['gini', 'entropy']},\n",
       "       pre_dispatch='2*n_jobs', refit=True, return_train_score=True,\n",
       "       scoring=None, verbose=0)"
      ]
     },
     "execution_count": 54,
     "metadata": {},
     "output_type": "execute_result"
    }
   ],
   "source": [
    "CV_rfc = GridSearchCV(estimator=clf_rf, param_grid=param_grid, cv= 5)\n",
    "CV_rfc.fit(X_res, y_res)"
   ]
  },
  {
   "cell_type": "code",
   "execution_count": 55,
   "metadata": {},
   "outputs": [
    {
     "data": {
      "text/plain": [
       "{'criterion': 'entropy', 'max_features': 'auto', 'n_estimators': 100}"
      ]
     },
     "execution_count": 55,
     "metadata": {},
     "output_type": "execute_result"
    }
   ],
   "source": [
    "CV_rfc.best_params_"
   ]
  },
  {
   "cell_type": "code",
   "execution_count": 56,
   "metadata": {},
   "outputs": [
    {
     "data": {
      "text/plain": [
       "RandomForestClassifier(bootstrap=True, class_weight=None, criterion='entropy',\n",
       "            max_depth=None, max_features='auto', max_leaf_nodes=None,\n",
       "            min_impurity_decrease=0.0, min_impurity_split=None,\n",
       "            min_samples_leaf=1, min_samples_split=2,\n",
       "            min_weight_fraction_leaf=0.0, n_estimators=100, n_jobs=1,\n",
       "            oob_score=False, random_state=12, verbose=0, warm_start=False)"
      ]
     },
     "execution_count": 56,
     "metadata": {},
     "output_type": "execute_result"
    }
   ],
   "source": [
    "CV_rfc.best_estimator_"
   ]
  },
  {
   "cell_type": "code",
   "execution_count": 57,
   "metadata": {},
   "outputs": [
    {
     "data": {
      "text/plain": [
       "0.99569760295021514"
      ]
     },
     "execution_count": 57,
     "metadata": {},
     "output_type": "execute_result"
    }
   ],
   "source": [
    "CV_rfc.best_score_"
   ]
  },
  {
   "cell_type": "code",
   "execution_count": 58,
   "metadata": {},
   "outputs": [
    {
     "name": "stdout",
     "output_type": "stream",
     "text": [
      "Training Results\n",
      "1.0\n",
      "1.0\n",
      "\n",
      "Test Results\n",
      "0.998217468806\n",
      "1.0\n"
     ]
    }
   ],
   "source": [
    "print ('Training Results')\n",
    "print (CV_rfc.score(X_res, y_res))\n",
    "print (recall_score(y_res, CV_rfc.predict(X_res)))\n",
    "print ('\\nTest Results')\n",
    "print (CV_rfc.score(Xtest, ytest))\n",
    "print (recall_score(ytest, CV_rfc.predict(Xtest)))"
   ]
  },
  {
   "cell_type": "code",
   "execution_count": 59,
   "metadata": {},
   "outputs": [
    {
     "name": "stdout",
     "output_type": "stream",
     "text": [
      "Training Results\n",
      "1.0\n",
      "1.0\n",
      "\n",
      "Test Results\n",
      "0.998217468806\n",
      "1.0\n"
     ]
    }
   ],
   "source": [
    "clf_rf2 = CV_rfc.best_estimator_\n",
    "clf_rf2.fit(X_res, y_res)\n",
    "print ('Training Results')\n",
    "print (clf_rf2.score(X_res, y_res))\n",
    "print (recall_score(y_res, clf_rf2.predict(X_res)))\n",
    "print ('\\nTest Results')\n",
    "print (clf_rf2.score(Xtest, ytest))\n",
    "print (recall_score(ytest, clf_rf2.predict(Xtest)))"
   ]
  },
  {
   "cell_type": "markdown",
   "metadata": {},
   "source": [
    "#### What are the most important features?"
   ]
  },
  {
   "cell_type": "code",
   "execution_count": 60,
   "metadata": {
    "collapsed": true
   },
   "outputs": [],
   "source": [
    "features_df = pd.DataFrame(clf_rf2.feature_importances_, index = X.columns)"
   ]
  },
  {
   "cell_type": "code",
   "execution_count": 61,
   "metadata": {},
   "outputs": [
    {
     "data": {
      "text/html": [
       "<div>\n",
       "<style>\n",
       "    .dataframe thead tr:only-child th {\n",
       "        text-align: right;\n",
       "    }\n",
       "\n",
       "    .dataframe thead th {\n",
       "        text-align: left;\n",
       "    }\n",
       "\n",
       "    .dataframe tbody tr th {\n",
       "        vertical-align: top;\n",
       "    }\n",
       "</style>\n",
       "<table border=\"1\" class=\"dataframe\">\n",
       "  <thead>\n",
       "    <tr style=\"text-align: right;\">\n",
       "      <th></th>\n",
       "      <th>0</th>\n",
       "    </tr>\n",
       "  </thead>\n",
       "  <tbody>\n",
       "    <tr>\n",
       "      <th>errorBalanceOrig</th>\n",
       "      <td>0.326139</td>\n",
       "    </tr>\n",
       "    <tr>\n",
       "      <th>oldBalanceDest</th>\n",
       "      <td>0.171939</td>\n",
       "    </tr>\n",
       "    <tr>\n",
       "      <th>oldBalanceOrig</th>\n",
       "      <td>0.148018</td>\n",
       "    </tr>\n",
       "    <tr>\n",
       "      <th>newBalanceOrig</th>\n",
       "      <td>0.090573</td>\n",
       "    </tr>\n",
       "    <tr>\n",
       "      <th>step</th>\n",
       "      <td>0.072334</td>\n",
       "    </tr>\n",
       "    <tr>\n",
       "      <th>newBalanceDest</th>\n",
       "      <td>0.059957</td>\n",
       "    </tr>\n",
       "    <tr>\n",
       "      <th>errorBalanceDest</th>\n",
       "      <td>0.041776</td>\n",
       "    </tr>\n",
       "    <tr>\n",
       "      <th>amount</th>\n",
       "      <td>0.036633</td>\n",
       "    </tr>\n",
       "    <tr>\n",
       "      <th>type_TRANSFER</th>\n",
       "      <td>0.031189</td>\n",
       "    </tr>\n",
       "    <tr>\n",
       "      <th>type_CASH_OUT</th>\n",
       "      <td>0.021441</td>\n",
       "    </tr>\n",
       "  </tbody>\n",
       "</table>\n",
       "</div>"
      ],
      "text/plain": [
       "                         0\n",
       "errorBalanceOrig  0.326139\n",
       "oldBalanceDest    0.171939\n",
       "oldBalanceOrig    0.148018\n",
       "newBalanceOrig    0.090573\n",
       "step              0.072334\n",
       "newBalanceDest    0.059957\n",
       "errorBalanceDest  0.041776\n",
       "amount            0.036633\n",
       "type_TRANSFER     0.031189\n",
       "type_CASH_OUT     0.021441"
      ]
     },
     "execution_count": 61,
     "metadata": {},
     "output_type": "execute_result"
    }
   ],
   "source": [
    "features_df.sort_values(by=0, ascending=False)"
   ]
  },
  {
   "cell_type": "markdown",
   "metadata": {},
   "source": [
    "### SVM Classifier"
   ]
  },
  {
   "cell_type": "code",
   "execution_count": 62,
   "metadata": {
    "collapsed": true
   },
   "outputs": [],
   "source": [
    "# It is usually a good idea to scale the data for SVM training.\n",
    "from sklearn.preprocessing import StandardScaler\n",
    "scaler = StandardScaler()\n",
    "X_scaled = scaler.fit_transform(X_res)"
   ]
  },
  {
   "cell_type": "code",
   "execution_count": 63,
   "metadata": {},
   "outputs": [
    {
     "data": {
      "text/plain": [
       "GridSearchCV(cv=5, error_score='raise',\n",
       "       estimator=SVC(C=1.0, cache_size=200, class_weight=None, coef0=0.0,\n",
       "  decision_function_shape='ovr', degree=3, gamma='auto', kernel='rbf',\n",
       "  max_iter=-1, probability=False, random_state=None, shrinking=True,\n",
       "  tol=0.001, verbose=False),\n",
       "       fit_params=None, iid=True, n_jobs=1,\n",
       "       param_grid={'gamma': array([  1.00000e-09,   1.00000e-06,   1.00000e-03,   1.00000e+00,\n",
       "         1.00000e+03]), 'C': array([  1.00000e-02,   1.00000e+01,   1.00000e+04,   1.00000e+07,\n",
       "         1.00000e+10])},\n",
       "       pre_dispatch='2*n_jobs', refit=True, return_train_score=True,\n",
       "       scoring=None, verbose=0)"
      ]
     },
     "execution_count": 63,
     "metadata": {},
     "output_type": "execute_result"
    }
   ],
   "source": [
    "from sklearn import svm\n",
    "C_range = np.logspace(-2, 10, 5)\n",
    "gamma_range = np.logspace(-9, 3, 5)\n",
    "param_grid = dict(gamma=gamma_range, C=C_range)\n",
    "param_grid = {'gamma': gamma_range, 'C': C_range}\n",
    "svc = svm.SVC()\n",
    "CV_svm = GridSearchCV(estimator=svc, param_grid=param_grid, cv= 5)\n",
    "CV_svm.fit(X_scaled, y_res)"
   ]
  },
  {
   "cell_type": "code",
   "execution_count": 64,
   "metadata": {},
   "outputs": [
    {
     "data": {
      "text/plain": [
       "{'C': 10000.0, 'gamma': 1.0}"
      ]
     },
     "execution_count": 64,
     "metadata": {},
     "output_type": "execute_result"
    }
   ],
   "source": [
    "CV_svm.best_params_"
   ]
  },
  {
   "cell_type": "code",
   "execution_count": 65,
   "metadata": {},
   "outputs": [
    {
     "data": {
      "text/plain": [
       "SVC(C=10000.0, cache_size=200, class_weight=None, coef0=0.0,\n",
       "  decision_function_shape='ovr', degree=3, gamma=1.0, kernel='rbf',\n",
       "  max_iter=-1, probability=False, random_state=None, shrinking=True,\n",
       "  tol=0.001, verbose=False)"
      ]
     },
     "execution_count": 65,
     "metadata": {},
     "output_type": "execute_result"
    }
   ],
   "source": [
    "CV_svm.best_estimator_"
   ]
  },
  {
   "cell_type": "code",
   "execution_count": 66,
   "metadata": {},
   "outputs": [
    {
     "data": {
      "text/plain": [
       "0.98770743700061459"
      ]
     },
     "execution_count": 66,
     "metadata": {},
     "output_type": "execute_result"
    }
   ],
   "source": [
    "CV_svm.best_score_"
   ]
  },
  {
   "cell_type": "code",
   "execution_count": 67,
   "metadata": {},
   "outputs": [
    {
     "name": "stdout",
     "output_type": "stream",
     "text": [
      "Training Results\n",
      "0.99938537185\n",
      "0.99938537185\n",
      "\n",
      "Test Results\n",
      "0.97504456328\n",
      "0.0\n"
     ]
    }
   ],
   "source": [
    "print ('Training Results')\n",
    "print (CV_svm.score(X_scaled, y_res))\n",
    "print (recall_score(y_res, CV_svm.predict(X_scaled)))\n",
    "print ('\\nTest Results')\n",
    "print (CV_svm.score(Xtest, ytest))\n",
    "print (recall_score(ytest, CV_svm.predict(Xtest)))"
   ]
  },
  {
   "cell_type": "markdown",
   "metadata": {},
   "source": [
    "### Logistic Regression Classifier"
   ]
  },
  {
   "cell_type": "code",
   "execution_count": 68,
   "metadata": {},
   "outputs": [
    {
     "name": "stdout",
     "output_type": "stream",
     "text": [
      "C_param:  1e-08\n",
      "Cross Validation Score:  [ 0.85889571  0.8803681   0.88769231  0.91076923  0.88      ]\n",
      "Logistic Regression Score:  0.926916221034\n",
      "Precison score:  0.224489795918\n",
      "Recall score:  0.785714285714\n",
      "[[509  38]\n",
      " [  3  11]]\n",
      "             precision    recall  f1-score   support\n",
      "\n",
      "          0       0.99      0.93      0.96       547\n",
      "          1       0.22      0.79      0.35        14\n",
      "\n",
      "avg / total       0.97      0.93      0.95       561\n",
      "\n",
      "-------------------------------------\n",
      "C_param:  1e-07\n",
      "Cross Validation Score:  [ 0.92944785  0.9309816   0.95538462  0.95692308  0.93692308]\n",
      "Logistic Regression Score:  0.9376114082\n",
      "Precison score:  0.276595744681\n",
      "Recall score:  0.928571428571\n",
      "[[513  34]\n",
      " [  1  13]]\n",
      "             precision    recall  f1-score   support\n",
      "\n",
      "          0       1.00      0.94      0.97       547\n",
      "          1       0.28      0.93      0.43        14\n",
      "\n",
      "avg / total       0.98      0.94      0.95       561\n",
      "\n",
      "-------------------------------------\n"
     ]
    },
    {
     "name": "stderr",
     "output_type": "stream",
     "text": [
      "/anaconda3/lib/python3.6/site-packages/sklearn/cross_validation.py:41: DeprecationWarning: This module was deprecated in version 0.18 in favor of the model_selection module into which all the refactored classes and functions are moved. Also note that the interface of the new CV iterators are different from that of this module. This module will be removed in 0.20.\n",
      "  \"This module will be removed in 0.20.\", DeprecationWarning)\n"
     ]
    },
    {
     "name": "stdout",
     "output_type": "stream",
     "text": [
      "C_param:  1e-05\n",
      "Cross Validation Score:  [ 0.94478528  0.94478528  0.95692308  0.96769231  0.94769231]\n",
      "Logistic Regression Score:  0.930481283422\n",
      "Precison score:  0.264150943396\n",
      "Recall score:  1.0\n",
      "[[508  39]\n",
      " [  0  14]]\n",
      "             precision    recall  f1-score   support\n",
      "\n",
      "          0       1.00      0.93      0.96       547\n",
      "          1       0.26      1.00      0.42        14\n",
      "\n",
      "avg / total       0.98      0.93      0.95       561\n",
      "\n",
      "-------------------------------------\n",
      "C_param:  0.0001\n",
      "Cross Validation Score:  [ 0.94785276  0.94478528  0.95692308  0.96769231  0.94461538]\n",
      "Logistic Regression Score:  0.926916221034\n",
      "Precison score:  0.254545454545\n",
      "Recall score:  1.0\n",
      "[[506  41]\n",
      " [  0  14]]\n",
      "             precision    recall  f1-score   support\n",
      "\n",
      "          0       1.00      0.93      0.96       547\n",
      "          1       0.25      1.00      0.41        14\n",
      "\n",
      "avg / total       0.98      0.93      0.95       561\n",
      "\n",
      "-------------------------------------\n",
      "C_param:  0.001\n",
      "Cross Validation Score:  [ 0.94785276  0.94478528  0.95692308  0.96461538  0.94461538]\n",
      "Logistic Regression Score:  0.926916221034\n",
      "Precison score:  0.254545454545\n",
      "Recall score:  1.0\n",
      "[[506  41]\n",
      " [  0  14]]\n",
      "             precision    recall  f1-score   support\n",
      "\n",
      "          0       1.00      0.93      0.96       547\n",
      "          1       0.25      1.00      0.41        14\n",
      "\n",
      "avg / total       0.98      0.93      0.95       561\n",
      "\n",
      "-------------------------------------\n",
      "C_param:  0.01\n",
      "Cross Validation Score:  [ 0.94478528  0.92331288  0.94        0.95076923  0.94      ]\n",
      "Logistic Regression Score:  0.900178253119\n",
      "Precison score:  0.2\n",
      "Recall score:  1.0\n",
      "[[491  56]\n",
      " [  0  14]]\n",
      "             precision    recall  f1-score   support\n",
      "\n",
      "          0       1.00      0.90      0.95       547\n",
      "          1       0.20      1.00      0.33        14\n",
      "\n",
      "avg / total       0.98      0.90      0.93       561\n",
      "\n",
      "-------------------------------------\n",
      "C_param:  0.1\n",
      "Cross Validation Score:  [ 0.93404908  0.90490798  0.91384615  0.93846154  0.93076923]\n",
      "Logistic Regression Score:  0.878787878788\n",
      "Precison score:  0.170731707317\n",
      "Recall score:  1.0\n",
      "[[479  68]\n",
      " [  0  14]]\n",
      "             precision    recall  f1-score   support\n",
      "\n",
      "          0       1.00      0.88      0.93       547\n",
      "          1       0.17      1.00      0.29        14\n",
      "\n",
      "avg / total       0.98      0.88      0.92       561\n",
      "\n",
      "-------------------------------------\n",
      "C_param:  1\n",
      "Cross Validation Score:  [ 0.92944785  0.90490798  0.90769231  0.93846154  0.92615385]\n",
      "Logistic Regression Score:  0.880570409982\n",
      "Precison score:  0.172839506173\n",
      "Recall score:  1.0\n",
      "[[480  67]\n",
      " [  0  14]]\n",
      "             precision    recall  f1-score   support\n",
      "\n",
      "          0       1.00      0.88      0.93       547\n",
      "          1       0.17      1.00      0.29        14\n",
      "\n",
      "avg / total       0.98      0.88      0.92       561\n",
      "\n",
      "-------------------------------------\n"
     ]
    }
   ],
   "source": [
    "from sklearn.linear_model import LogisticRegression\n",
    "from sklearn.cross_validation import KFold, cross_val_score\n",
    "from sklearn.metrics import confusion_matrix, precision_score, precision_recall_curve,auc,roc_auc_score,roc_curve,recall_score,classification_report \n",
    "C_param_range = [1E-8, 1E-7, 1E-5, 0.0001, 0.001, 0.01, 0.1, 1]\n",
    "precision_best = 0\n",
    "C_param_best = 0\n",
    "for C_param in C_param_range:\n",
    "    logreg = LogisticRegression(C = C_param, penalty = 'l1')\n",
    "    cv_results = cross_val_score(logreg, X_res, y_res, cv=5)\n",
    "    print(\"C_param: \", C_param)\n",
    "    print(\"Cross Validation Score: \", cv_results)\n",
    "    logreg.fit(X_res, y_res)\n",
    "    y_pred = logreg.predict(Xtest)\n",
    "    score_logreg = logreg.score(Xtest, ytest)\n",
    "    print(\"Logistic Regression Score: \", score_logreg)\n",
    "    precision = precision_score(ytest, y_pred)\n",
    "    recall = recall_score(ytest, y_pred)\n",
    "    if precision > precision_best:\n",
    "        precision_best = precision\n",
    "        C_param_best = C_param\n",
    "    print(\"Precison score: \", precision)\n",
    "    print(\"Recall score: \", recall)\n",
    "    print(confusion_matrix(ytest, y_pred))\n",
    "    print(classification_report(ytest, y_pred))\n",
    "    print(\"-------------------------------------\")"
   ]
  },
  {
   "cell_type": "raw",
   "metadata": {},
   "source": [
    "logreg = LogisticRegression(C = 0.001, penalty = 'l1')\n",
    "logreg.fit(X_res, y_res)\n",
    "y_pred = logreg.predict(Xtest)\n",
    "score_logreg = logreg.score(Xtest, ytest)\n",
    "print(\"Logistic Regression Score: \", score_logreg)"
   ]
  },
  {
   "cell_type": "raw",
   "metadata": {},
   "source": [
    "precision = precision_score(ytest, y_pred)\n",
    "recall = recall_score(ytest, y_pred)\n",
    "print(\"Precison score: \", precision)\n",
    "print(\"Recall score: \", recall)\n",
    "print(confusion_matrix(ytest, y_pred))\n",
    "print(classification_report(ytest, y_pred))"
   ]
  },
  {
   "cell_type": "code",
   "execution_count": 69,
   "metadata": {},
   "outputs": [
    {
     "name": "stdout",
     "output_type": "stream",
     "text": [
      "C_param_best:  1e-07\n"
     ]
    },
    {
     "data": {
      "image/png": "[encoded data removed]",
      "text/plain": [
       "<matplotlib.figure.Figure at 0x1a2dc6eb70>"
      ]
     },
     "metadata": {},
     "output_type": "display_data"
    }
   ],
   "source": [
    "print(\"C_param_best: \", C_param_best)\n",
    "logreg = LogisticRegression(C = C_param_best, penalty = 'l1')\n",
    "logreg.fit(X_res, y_res)\n",
    "y_pred_prob = logreg.predict_proba(Xtest)[:,1]\n",
    "fpr, tpr, threshold = roc_curve(ytest, y_pred_prob)\n",
    "roc_auc = auc(fpr,tpr)\n",
    "plt.plot([0,1], [0,1], \"k--\")\n",
    "plt.plot(fpr, tpr, label='AUC = %0.2f'% roc_auc)\n",
    "plt.legend(loc='lower right')\n",
    "plt.title('Receiver Operating Characteristic')\n",
    "plt.ylabel('True Positive Rate')\n",
    "plt.xlabel('False Positive Rate')\n",
    "plt.show()"
   ]
  },
  {
   "cell_type": "code",
   "execution_count": null,
   "metadata": {
    "collapsed": true
   },
   "outputs": [],
   "source": []
  },
  {
   "cell_type": "code",
   "execution_count": null,
   "metadata": {
    "collapsed": true
   },
   "outputs": [],
   "source": []
  },
  {
   "cell_type": "code",
   "execution_count": null,
   "metadata": {
    "collapsed": true
   },
   "outputs": [],
   "source": []
  }
 ],
 "metadata": {
  "kernelspec": {
   "display_name": "Python 3",
   "language": "python",
   "name": "python3"
  },
  "language_info": {
   "codemirror_mode": {
    "name": "ipython",
    "version": 3
   },
   "file_extension": ".py",
   "mimetype": "text/x-python",
   "name": "python",
   "nbconvert_exporter": "python",
   "pygments_lexer": "ipython3",
   "version": "3.6.2"
  }
 },
 "nbformat": 4,
 "nbformat_minor": 2
}
